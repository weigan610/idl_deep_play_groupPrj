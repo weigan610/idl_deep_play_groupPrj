{
 "cells": [
  {
   "cell_type": "code",
   "execution_count": 1,
   "metadata": {
    "execution": {
     "iopub.execute_input": "2025-04-18T01:37:51.034289Z",
     "iopub.status.busy": "2025-04-18T01:37:51.033488Z",
     "iopub.status.idle": "2025-04-18T01:37:51.340930Z",
     "shell.execute_reply": "2025-04-18T01:37:51.340082Z",
     "shell.execute_reply.started": "2025-04-18T01:37:51.034227Z"
    },
    "trusted": true
   },
   "outputs": [],
   "source": [
    "import pandas as pd\n",
    "import sqlite3\n",
    "import json\n",
    "import os\n",
    "from tqdm import tqdm"
   ]
  },
  {
   "cell_type": "code",
   "execution_count": 2,
   "metadata": {
    "execution": {
     "iopub.execute_input": "2025-04-18T01:37:51.381949Z",
     "iopub.status.busy": "2025-04-18T01:37:51.381564Z",
     "iopub.status.idle": "2025-04-18T01:37:51.386506Z",
     "shell.execute_reply": "2025-04-18T01:37:51.385694Z",
     "shell.execute_reply.started": "2025-04-18T01:37:51.381925Z"
    },
    "trusted": true
   },
   "outputs": [],
   "source": [
    "MXM_PATH = \"/kaggle/input/musicxmatch-dataset/mxm_dataset_train.txt\"\n",
    "TRACKS_PATH = \"/kaggle/input/million-song-dataset-spotify-lastfm/Music Info.csv\"\n",
    "LASTFM_DB = \"/kaggle/input/lastfm/lastfm_similars.db\"\n",
    "OUTPUT_DIR = \"/kaggle/working/output\"\n",
    "SIMILARITY_THRESHOLD = 0.6\n",
    "\n",
    "os.makedirs(OUTPUT_DIR, exist_ok=True)"
   ]
  },
  {
   "cell_type": "code",
   "execution_count": 3,
   "metadata": {
    "execution": {
     "iopub.execute_input": "2025-04-18T01:37:52.074031Z",
     "iopub.status.busy": "2025-04-18T01:37:52.073281Z",
     "iopub.status.idle": "2025-04-18T01:37:52.093343Z",
     "shell.execute_reply": "2025-04-18T01:37:52.092497Z",
     "shell.execute_reply.started": "2025-04-18T01:37:52.074004Z"
    },
    "trusted": true
   },
   "outputs": [
    {
     "name": "stdout",
     "output_type": "stream",
     "text": [
      "# TRAINING SET\n",
      "# MusiXmatch dataset, the official lyrics dataset\n",
      "# of the Million Song Dataset\n",
      "#    file created on Tue Mar 29 04:28:44 2011\n",
      "#    contact: T. Bertin-Mahieux (Columbia University)\n",
      "#             tb2332@columbia.edu\n",
      "#    also: http://labrosa.ee.columbia.edu/millionsong/musixmatch\n",
      "#          http://www.musixmatch.com\n",
      "# FORMAT:\n",
      "#     #   - comment, to ignore\n",
      "#     %   - list of top words, comma-separated\n",
      "#         - normal line, contains track_id, mxm track id,\n",
      "#           then word count for each of the top words, comma-separated\n",
      "#           word count is in sparse format -> ...,<word idx>:<cnt>,...\n",
      "#           <word idx> starts at 1 (not zero!)\n",
      "# All our work is done using UTF-8 encoding.\n",
      "# enjoy!\n",
      "%i,the,you,to,and,a,me,it,not,in,my,is,of,your,that,do,on,are,we,am,will,all,for,no,be,have,love,so,know,this,but,with,what,just,when,like,now,que,time,can,come,de,there,go,up,oh,la,one,they,out,down,get,she,was,see,if,got,never,from,he,feel,want,let,make,way,say,take,would,as,ca,day,at,babi,away,life,yeah,y,back,by,her,heart,here,how,could,night,need,our,look,where,en,eye,thing,world,more,caus,gonna,die,right,been,tell,think,un,who,el,through,man,live,again,give,too,onli,te,tri,tu,or,whi,se,keep,dream,well,mind,an,wo,still,us,his,long,mi,girl,wanna,find,fall,around,good,about,some,over,littl,turn,hand,then,noth,light,said,call,everi,alway,were,did,into,e,wait,leav,home,had,hold,run,es,walk,ever,them,lie,face,end,hear,gone,head,believ,everyth,ya,has,cri,alon,yo,hey,their,le,someth,si,insid,du,befor,o,word,stay,place,much,chang,ich,god,stand,these,better,last,friend,soul,anoth,je,left,new,him,than,stop,tonight,burn,sun,off,por,lo,play,thought,sing,show,lost,peopl,made,break,und,start,should,realli,chorus,hard,sky,old,da,even,boy,pleas,song,care,without,hope,watch,pain,amor,move,wrong,put,free,gotta,name,et,same,blue,con,danc,talk,seem,own,mine,dark,na,far,tear,true,fire,use,dead,bring,fuck,other,sin,someon,myself,forev,close,sleep,rain,those,must,una,les,sweet,mean,fight,rememb,star,while,kiss,kill,high,breath,doe,yes,al,wish,che,real,smile,two,cold,lord,year,open,il,fear,di,done,side,fli,black,line,rock,blood,lose,found,onc,non,door,bad,ooh,wonder,ti,como,enough,para,sound,togeth,mayb,los,help,shine,mani,heaven,becaus,work,touch,behind,yourself,today,big,might,death,hate,miss,ride,street,came,ask,hide,everybodi,save,till,may,beauti,roll,sure,deep,arm,son,wind,bodi,forget,happi,understand,ai,best,ma,town,war,ah,listen,seen,der,sometim,lone,hell,morn,until,set,hurt,told,first,knew,goe,round,em,alright,music,sea,truth,qui,beat,nicht,eu,las,todo,pass,under,del,late,after,ani,ground,fool,pas,broken,goodby,das,des,kind,wall,angel,est,road,reason,dan,money,chanc,quiero,mai,part,matter,learn,els,rise,pour,saw,grow,ha,sit,land,fade,air,took,nobodi,ne,fill,easi,game,follow,wake,anyth,aliv,solo,water,heard,though,white,vida,ist,voic,woman,blind,each,citi,young,lay,moon,reach,readi,fine,soon,shit,along,à,crazi,past,red,room,such,ein,step,scream,tomorrow,control,memori,strong,hit,everyon,wast,não,men,earth,s,upon,final,shake,im,abov,ja,moment,rest,guess,hous,born,somebodi,feet,mas,sad,laugh,esta,happen,went,cest,blow,noch,meet,whole,lover,drive,car,lead,su,veri,ni,promis,bed,apart,um,empti,shadow,full,begin,pull,child,pretti,drink,pray,king,cut,t,power,gave,hay,peac,hang,next,ser,mother,é,cuando,between,pay,carri,tire,speak,lot,tree,den,skin,tout,til,slow,sinc,anymor,kid,clear,mich,jesus,differ,fast,becom,nigga,va,gun,nos,zu,más,river,faith,floor,cross,ladi,near,fun,ring,answer,pero,afraid,jag,repeat,great,stori,yet,cannot,hot,wir,nada,hour,summer,stone,bleed,sign,mir,lyric,children,trust,wild,felt,troubl,honey,sick,perfect,human,bright,bien,mama,dich,parti,train,plan,porqu,sorri,plus,hair,secret,silenc,tast,brother,throw,within,per,push,m,somewher,three,cloud,shall,vez,low,window,knee,lip,futur,dear,search,2,sie,drop,det,cool,flame,outsid,worri,bout,goin,met,stare,sight,most,mon,voy,across,wear,wave,tus,pick,er,send,siempr,wie,bone,flow,piec,soy,uh,thank,mis,straight,blame,catch,au,ce,tight,&,mile,holi,darl,auf,mouth,christma,which,moi,against,mad,both,share,caught,father,read,warm,wing,nunca,belong,damn,eat,win,sens,comm,u,fell,evil,dem,ho,pictur,second,nowher,dog,rule,une,mal,mountain,joy,mit,top,och,tan,som,bit,cover,point,thousand,hoy,n,gold,bell,è,devil,bird,sur,quit,brain,return,build,kick,rose,bitch,babe,guy,whoa,shame,mein,space,whisper,tiempo,cos,write,dir,tengo,count,slip,ver,desir,sei,nice,weak,rais,jai,ocean,number,drown,spirit,scare,strang,ik,half,known,pretend,worth,someday,act,beyond,fair,million,finger,question,doubt,meant,smoke,comin,flesh,dawn,daddi,storm,hole,color,jump,remain,mundo,etern,nothin,buy,nur,anyon,dress,1,minut,dont,pra,snow,d,dig,estoy,forc,spend,shot,everyday,puedo,tú,chain,dri,grace,green,glori,doch,everywher,freedom,realiz,lock,pride,whatev,feed,mistak,vers,fate,meu,escap,wash,mess,você,sand,front,forgiv,vi,winter,tanto,magic,flower,pa,closer,safe,wenn,sol,bless,suffer,longer,dein,hello,san,grave,alreadi,yesterday,wide,radio,sorrow,ten,tien,phone,crawl,surviv,ay,tie,exist,anyway,io,spin,insan,nous,slowli,dond,ear,crowd,clean,natur,knock,four,poor,loud,shoe,bar,está,ass,lovin,higher,race,silent,lift,destroy,cuz,soft,paint,mar,dirti,check,ta,held,vie,shout,sail,twist,guitar,simpl,quand,sa,ei,deni,fail,van,famili,vision,toi,lookin,track,broke,dia,state,welcom,ghost,almost,shut,entr,somehow,glass,yea,gent,choos,für,bin,glad,shoot,ell,small,hill,wine,treat,dos,stranger,regret,refrain,corazón,machin,problem,feelin,sister,era,steal,endless,vai,awak,key,grand,cada,age,bridg,dust,wit,merci,wheel,ere,crack,taken,prais,heal,queen,mirror,von,corner,ba,ago,buri,book,ahora,climb,quando,okay,cloth,band,school,stick,är,circl,ou,tv,don,strength,og,five,countri,beneath,sunshin,sabe,alma,ice,ça,bound,less,sell,tongu,path,cielo,travel,hasta,hat,rather,heat,innoc,confus,cosa,golden,ohh,mari,singl,ahead,bye,silver,tryin,doo,mes,sai,chase,pued,più,few,sein,scene,smell,funni,enemi,swear,på,ball,beg,sind,x2,prayer,wound,otra,ton,disappear,besid,hace,toda,ignor,mr,yall,style,ihr,brought,given,quiet,rage,mano,realiti,sink,3,quier,spread,crime,vain,nadi,fallen,self,decid,ella,c,fue,imagin,hier,stuck,view,vas,kept,demon,sui,busi,ok,record,law,choic,har,fit,remind,emot,field,crash,suppos,sen,cmon,dentro,mehr,danger,sich,letter,midnight,com,kein,nation,edg,surpris,rien,murder,deal,complet,loos,price,instrument,luck,rip,drift,poison,battl,livin,gimm,gettin,haunt,sex,proud,re,heavi,guid,nie,drag,middl,bare,dare,bang,ojo,pure,embrac,aus,suck,stupid,fake,week,news,tes,master,float,satisfi,sent,christ,fait,scar,bear,dime,quick,het,poi,swing,below,prove,figur,diamond,none,instead,pleasur,curs,rich,cat,spent,seek,paper,mysteri,passion,brand,siento,bomb,luz,bitter,tender,fact,job,qué,bet,oooh,sempr,cast,sono,trip,pack,explain,talkin,lucki,ci,l,eso,special,mark,form,shoulder,warn,creat,seven,ship,bist,miseri,sunday,six,quien,tune,wrap,muy,pop,surround,doin,hero,gate,comfort,han,2x,rush,drug,fuckin,mejor,vivir,least,short,sé,dann,cruel,par,rhyme,written,swallow,wander,reflect,dice,aunqu,tide,join,bottl,steel,paradis,mia,día,cant,auch,wife,shore,leg,somethin,draw,slave,march,jour,algo,beso,immer,swim,built,tempo,women,corazon,om,fix,trap,torn,vein,estar,releas,hors,casa,spell,glow,grab,denn,drum,bite,brown,won,i’m,sugar,forgotten,stronger,rhythm,victim,messag,later,person,darlin,así,poco,avec,huh,dat,dio,uma,sudden,stood,att,hundr,kann,runnin,sólo,season,sueño,surrend,bore,vou,crush,histori,wont,luna,ourselv,verdad,weight,mí,4,lust,dolor,park,expect,só,speed,shade,calm,bow,bend,mig,strike,thrill,anim,aquí,leben,thunder,soldier,vous,hacer,west,destini,spit,ran,twice,drunk,page,med,desert,block,tall,anywher,distanc,mio,spring,gather,g,temp,foi,cuerpo,dollar,echo,knife,melt,mujer,anybodi,otro,aqui,så,grey,asleep,gentl,sem,direct,load,divin,earli,toward,kun,weather,ash,ve,os,seed,highway,harder,sus,boom,esa,attack,action,thee,fin,quon,art,pie,club,wird,contigo,kan,rap,case,hab,tous,thinkin,metal,underneath,breez,teeth,respect,outta,john,neck,precious,nine,idea,rainbow,thi,lieb,laid,offer,gut,saber,een,nois,begun,resist,garden,sigh,bag,disguis,noon,quem,string,colour,nu,ooo,gift,aint,shape,york,jetzt,schon,teach,don’t,test,lado,arriv,amar,diseas,sold,clock,flash,youth,box,rot,lugar,mighti,certain,protect,mond,ruin,romanc,vamo,sweat,fantasi,vien,kinda,nacht,deserv,piel,jeg,hora,univers,desper,ach,hall,anger,beast,stuff,jack,tabl,punk,movi,tudo,niggaz,feliz,mucho,nightmar,doctor,freak,marri,crown,serv,satan,hallelujah,amigo,trace,main,nem,makin,prison,moonlight,voz,thin,deeper,appear,amaz,bought,weep,walkin,ant,même,chi,voi,hungri,wire,pocket,jamai,note,south,eh,woke,momento,illus,nail,junto,paid,bis,liar,bottom,plain,ill,notic,melodi,alla,camino,destruct,daughter,eas,fat,whenev,ador,church,bill,card,cours,nake,sacrific,zeit,system,pensar,order,stage,celebr,hip,total,welt,sera,fist,dit,wors,suicid,dove,bullet,senza,johnni,gain,quero,grown,wherev,slide,minha,fa,folk,nach,hurri,lang,seu,igual,vill,uno,kingdom,trick,wrote,encor,tem,choke,ll,dame,boat,tough,sang,ese,beer,eras,cup,brave,reveal,distant,trist,worst,wieder,grass,frozen,ahh,dass,faster,tard,sua,plane,saturday,woah,taught,generat,viel,cryin,it’,movin,store,shatter,stream,wood,ganz,sentir,pressur,wa,sont,charm,bloodi,yellow,mo,planet,joke,pound,vivo,struggl,petit,dumb,suit,present,revolut,nuestro,dirt,gon,hollow,será,vece,vos,wick,reign,miracl,rollin,stain,shelter,lifetim,claim,accept,ven,judg,av,tale,desd,enter,fault,sale,mim,betray,hast,violenc,chill,lui,recuerdo,terror,settl,wet,pena,foot,toujour,unknown,miedo,lonesom,nah,excus,rockin,santa,amo,fever,où,doubl,dire,america,var,asi,hidden,b,electr,mass,trop,j,já,attent,wise,volver,laughter,fame,groov,mom,niet,mmm,för,waitin,prepar,esto,due,noi,cure,began,x,lesson,là,hook,fish,east,hoe,cop,sou,seat,whose,forgot,bother,chest,situat,candl,cash,valley,quil,further,unit,mira,aim,journey,cell,ao,gray,vita,everytim,tag,throat,heartach,conmigo,tortur,mot,cara,imag,min,nuit,birth,woo,refus,sword,fortun,ces,ima,older,spoken,chose,motion,motherfuck,fals,enjoy,oo,fort,tutto,creep,sayin,trade,hoo,monkey,food,worship,nel,ancient,confess,coro,sobr,deja,stole,forward,tua,lamour,fallin,favorit,faut,toe,toy,nose,favor,american,class,cigarett,maria,intent,pill,poder,spill,cost,shed,po,probabl,among,tanta,dar,clown,consum,saint,fai,mä,connect,chao,mix,dun,goodnight,amour,sola,numb,viento,nest,salvat,island,wipe,await,spot,f,merri,hombr,chair,press,divid,bust,bem,compani,lick,boot,loneli,constant,dad,bei,cage,mañana,flight,cè,armi,mood,killer,darkest,drain,underground,polic,querer,fresh,boogi,lean,pale,niin,vor,ad,explod,sexi,rape,dick,geht,recal,exact,freez,savior,piti,separ,except,candi,frame,honest,religion,ses,vem,yeux,hunger,station,although,bus,onto,pum,aux,trail,mil,boca,leur,spark,ga,peu,decay,bass,demand,command,beach,destin,shi,greed,lack,ela,via,weg,vert,fui,whore,5,paso,importa,sat,palabra,monster,stumbl,komm,quiera,roam,threw,screen,ancora,thou,harm,gli,date,cheap,north,aw,r,root,led,rough,loco,energi,ment,despair,gaze,guilti,hatr,queda,joe,asid,addict,seal,super,iron,wisdom,scratch,papa,smash,throne,deceiv,forth,coffe,ir,ves,weari,posit,jah,ugli,shop,hood,shell,horizon,w,falta,becam,piss,blade,playin,grew,often,ye,gal,victori,receiv,takin,lightn,allow,mornin,hammer,lejo,telephon,cett,admit,rat,nuevo,flag,truli,doom,dis,loss,sacr,limit,pasa,bigger,afternoon,fed,engin,veux,–,foolish,jean,shock,breed,greatest,mental,soledad,mismo,tal,angri,ayer,finish,row,vuelv,convers,plastic,grip,creation,snake,regard,tick,fan,lit,holiday,somo,int,sue,steadi,tierra,coat,funki,cheat,sort,drip,teu,zum,abus,possess,undon,llorar,vocal,dj,hunt,month,possibl,design,depend,sole,daylight,decis,maar,sous,morir,assim,treasur,california,mare,olvidar,strip,hum,calor,trembl,weiß,durch,invit,rope,flood,ticket,ohn,crew,spoke,sheet,fuego,cantar,wreck,cowboy,allein,needl,decir,common,lung,monday,friday,girlfriend,piano,mission,veo,destino,perder,rescu,lazi,coupl,hi,coeur,p,eight,hai,andar,split,quisiera,mortal,guard,seul,societi,hotel,easili,anch,fashion,heel,creatur,sittin,defeat,ben,excit,pari,hung,ett,lake,tower,dive,estrella,silencio,curtain,gas,restless,canto,ond,dum,grant,unless,cheek,type,crumbl,hail,chosen,sunni,handl,lá,lion,burnin,disco,bank,match,deux,twenti,aris,replac,heut,you’r,score,mentira,bon,continu,stretch,inspir,ol,din,forest,callin,questa,coast,mort,questo,belief,tuo,sunlight,plant,sever,whip,ray,oder,descend,così,simpli,singin,mirada,mankind,violent,lane,void,hop,weil,mondo,sunset,thru,silli,corps,lass,behold,normal,agre,abandon,weapon,wed,bella,reveng,tini,justic,weekend,meno,mic,nor,bloom,sam,affair,leader,aber,aah,nerv,10,ohhh,hush,historia,op,caress,either,discov,leavin,helpless,ghetto,bread,dancin,x4,tant,hmm,momma,x3,gibt,tão,vive,pace,gusta,relax,jam,paz,brick,digo,dei,complain,burden,sunris,also,linger,jungl,hopeless,abl,agua,bop,fi,pillow,damag,mister,mask,itself,drove,pump,ska,boss,himself,list,whiskey,moral,affect,conquer,rosa,tumbl,album,mend,warrior,sinner,herz,mientra,tip,express,loser,chant,ogni,crave,crystal,diga,perché,thrown,quell,encontrar,bay,bee,fruit,hangin,billi,hollywood,parad,allt,bailar,weed,ciudad,switch,wat,soir,stab,asham,vent,collect,macht,truck,instant,terra,temptat,kuin,skull,ora,ed,fare,rebel,meat,autumn,bom,viver,london,jos,deliv,perdido,cuor,doll,downtown,pink,v,owe,quun,sigu,howl,gana,heartbeat,core,butterfli,aquel,chick,della,bastard,wer,noit,imposs,sangr,easier,clue,li,fuera,shiver,pool,presenc,dread,surfac,nient,occhi,pienso,conscienc,zero,pelo,alguien,blaze,squeez,blast,haben,dope,bruis,pue,tea,honor,ze,6,lamb,q,recogn,flor,whistl,roof,givin,gang,bewar,tomb,lei,euch,seguir,wow,clap,squar,forma,workin,rider,appl,modern,tellin,magazin,cha,coz,inner,impress,drawn,smart,harmoni,govern,iâm,quest,gran,volar,bliss,yuh,polit,dim,tour,pant,cheer,quer,familiar,fought,roar,dicen,när,pen,obsess,centuri,i´m,failur,jail,parec,confid,meg,kneel,spare,pin,vaya,import,mourn,hablar,giorno,yearn,cuenta,guilt,solut,terr,focus,cling,concret,horror,sore,dom,unfold,bounc,nun,goal,selfish,knowledg,canción,awaken,bath,kommt,delight,hesit,fond,parol,courag,serious,whether,ter,sweetest,useless,invis,film,ole,themselv,male,alcohol,sake,sway,relat,nott,tra,stair,parent,advic,grind,negro,vento,riot,sombra,blown,bajo,7,saa,burst,quel,size,sheep,fold,captur,dies,texa,lee,dwell,frighten,fragil,einen,ave,can’t,hacia,blew,chicken,thorn,teenag,everlast,zone,tape,feather,necesito,compar,agora,loin,pig,carv,plagu,tiger,flat,dee,punch,bueno,slaughter,funk,deseo,ami,nervous,tragedi,thick,mijn,fenc,anytim,backward,brighter,voir,envi,complic,captain,purpos,ordinari,nuestra,grin,mer,infect,spine,ought,defend,photograph,tha,prey,patient,nombr,flip,mc,mist,toss,castl,ici,horn,secur,jane,k,sä,sympathi,creo,baila,trash,shirt,twilight,pair,dreamer,compromis,board,veil,error,standin,ke,realis,devot,solid,babylon,fanci,ding,kom,faz,cerca,eg,holdin,justifi,alor,pearl,domin,soleil,estaba,origin,llegar,reject,awhil,sag,milk,tener,sweetheart,lil,content,samba,extra,ka,rotten,sucker,salt,bat,worn,toll,pi,buscando,yard,leather,astray,shift,third,grief,azul,upsid,buck,jingl,witch,dune,borrow,zijn,ont,kitchen,bedroom,sient,sigo,cream,birthday,limb,court,tom,neon,teacher,meer,overcom,depress,ingen,juli,scatter,pussi,pile,jealous,bum,rocket,jimmi,habit,dor,sensat,corrupt,righteous,neighbor,rob,moan,quello,dormir,virgin,labio,port,libertad,depth,revel,pasar,screw,stress,wolf,sto,augen,él,rum,sir,voor,beau,espera,beam,add,farewel,shower,concern,pasado,measur,oui,licht,voglio,4x,raini,remov,ceas,tail,ive,apolog,peur,border,breakin,viva,charg,mij,frustrat,perfum,bent,bubbl,unto,dag,terribl,ciel,eve,disgrac,soil,pro,puerta,wrath,mun,dreamin,feast,nas,reaction,duel,9,scheme,awar,smooth,shallow,razón,pode,trigger,patienc,fatal,brazo,warmth,nai,ceil,agoni,sweep,starv,deje,princ,olho,collaps,fuel,david,skip,entend,greet,haze,wore,crow,pueda,coup,guerra,å,vale,fe,privat,nyt,jame,herself,bullshit,teardrop,commit,blink,pensando,disast,lon,ang,olvido,siren,glorious,frown,glanc,absolut,vuelvo,convinc,palm,guarante,mention,ridin,rent,mike,vaan,sentiment,tutti,heartbreak,pobr,haut,año,unser,corp,vow,ele,tristeza,stray,vuoi,oi,punish,libr,fondo,i’ll,morgen,televis,cama,suffoc,mann,click,torment,repent,fri,contra,condit,alt,teas,linda,prize,michael,yell,jou,jo,ego,donât,ander,cook,cave,darken,mut,attitud,collid,adesso,mirar,mitt,sleev,parar,despué,sting,plenti,werd,coração,gay,devour,peut,eagl,fors,equal,empir,prend,balanc,ala,går,cultur,soak,jeder,quarter,tone,herida,amanec,summertim,unseen,thang,sharp,proof,sonrisa,earn,preacher,über,base,belli,mach,lullabi,louder,dulc,panic,flore,social,werden,rang,cock,shown,sung,understood,progress,cambiar,strand,seh,role,despertar,bride,crook,fiesta,3x,thug,bind,quoi,notr,shove,suert,gangsta,frent,cherri,mill,há,oil,coisa,dude,deed,oclock,cabeza,st,tres,ama,drank,strain,espero,muert,dragon,homm,wrist,team,jen,thirst,einfach,basta,playa,pronto,avoid,inch,ecstasi,muero,inform,mud,deus,gehen,madr,purpl,nog,razor,rust,femm,famous,pui,defin,atrá,don´t,bold,bibl,pit,kaikki,burnt,choir,trial,essa,entertain,penni,comment,rio,här,bras,tenho,demis,serpent,lleva,alguna,emerg,rue,stolen,ooooh,alarm,autr,hug,arrow,buena,templ,también,rejoic,bene,code,vuelva,damour,itâ,taim,dancer,odd,gloria,map,adio,presid,aha,afford,southern,mala,drivin,rag,organ,experi,spite,boil,movement,highest,avant,immort,pens,plate,cake,esperando,esperar,az,qu,bobbi,slam,jet,vom,chanson,halt,soar,cancion,bob,swell,bo,warum,pot,funer,christian,gen,yeh,niño,risk,ritmo,felicidad,scienc,plead,llevo,vu,drinkin,maker,amen,giant,level,raw,nella,ess,flew,8,até,languag,deepest,pido,zurück,encuentro,motor,visit,z,sweeter,pose,aldrig,cradl,obey,goddamn,threat,partir,hoje,driver,attract,buddi,public,avenu,taa,co,busco,tempt,chemic,jone,shakin,ny,mie,siamo,nena,vorrei,bein,daili,sta,stack,nasti,satisfact,center,tame,pierc,obvious,worthi,pourquoi,consid,gar,anda,sparkl,willst,fulfil,i’v,prophet,vanish,pan,slap,quién,hypnot,spoon,posso,thread,china,chew,quanto,canta,whatcha,bump,és,humbl,claw,preach,cadillac,mate,chaqu,sí,bond,grain,ninguém,dieser,são,mucha,voce,cómo,saniti,blank,già,degre,wither,snap,fog,doy,despis,endur,luce,busca,salir,sip,dedic,pine,alley,rearrang,saviour,donn,traffic,sincer,vad,liberti,volta,gypsi,pare,ko,struck,deinen,chip,ut,puls,scent,meinen,lame,stir,chop,fuert,sehen,condemn,llena,cleans,neither,buzz,tai,indian,muss,enfant,negra,rub,prima,blowin,cancer,solitud,driven,kommer,klein,sooner,success,media,viejo,blacken,foreign,vuelta,greater,sourc,boyfriend,medicin,rare,hago,lace,decemb,colder,camera,quelqu,bail,sagt,vivr,tool,oper,crimin,havin,interest,paul,être,llega,vet,runaway,slept,footstep,sixteen,fuerza,priest,nana,egg,intro,aussi,realidad,turnin,alien,vengeanc,kannst,dejar,stake,días,sonn,noir,sooth,cuanto,rein,bara,watchin,sentido,peel,stormi,player,dinner,hardest,respons,juego,worm,tak,aye,ar,perhap,dizer,orlean,blond,critic,stomach,niemand,toast,oye,bug,crucifi,sailor,steam,clever,claus,uncl,graviti,chica,reap,sento,farm,opinion,estamo,whom,blir,grasp,mamma,tore,dale,hurrican,mesmo,thief,za,tuoi,vibe,shini,muerto,sidewalk,passa,conscious,glove,perform,lluvia,winner,consequ,cantando,bleibt,buscar,sentimiento,disappoint,ann,lamor,oss,amant,ki,zo,jede,satellit,tattoo,muito,weit,tas,deg,usual,hecho,cocain,tot,tuesday,tension,rout,educ,bitt,zombi,ohoh,mieux,furi,alter,lend,valu,ainda,coal,tí,mommi,velvet,blanket,drama,bowl,orang,amart,uhh,reborn,angst,lotta,lyin,especi,conceal,rid,ideal,dal,sos,willi,sentenc,tête,dell,adió,tar,button,nao,strap,meinem,display,aan,fra,ihn,tap,sagen,miei,hon,signal,sul,shook,dot,jewel,himmel,vine,redeem,musica,cow,einer,termin,meus,pattern,ur,throughout,younger,coin,verso,deaf,ahhh,expos,compass,personn,donna,num,describ,lower,brush,alegria,mm,outro,fazer,tangl,instinct,effect,approach,breast,volt,naar,dart,wil,franc,ow,repli,provid,fim,declar,nuclear,swore,ez,llama,vino,están,solv,piensa,steht,distort,lair,rubber,factori,post,artist,anni,peter,biggest,brutal,extrem,english,jij,jerk,aún,calma,laiss,debt,perch,shield,mía,esperanza,haar,doi,redempt,model,sido,weigh,resurrect,alto,curl,cent,june,slice,mitä,sha,olen,insecur,coward,ra,usa,finn,georgia,estou,cute,cruis,mexico,invad,jealousi,futuro,fuist,dejo,halo,tras,beaten,luego,shelf,motiv,twelv,it´,rumor,tennesse,swept,anna,jaim,nosso,nuh,jamá,contain,nein,wort,ate,sleigh,schön,champagn,aun,defens,deceit,weird,relief,tá,product,dip,zwei,12,gesicht,singer,vera,vielleicht,spi,target,souvenir,stereo,bij,rude,manera,ab,reli,woh,harvest,corpo,liquid,fucker,exit,sonho,20,woe,web,casi,facil,princess,einmal,muscl,booti,blur,ii,ahí,duck,respirar,minä,evid,idiot,breakdown,liber,sow,georg,dans,einem,flyin,symphoni,ficar,automat,robot,igen,realm,practic,distract,extraño,judgement,sane,april,caer,gear,vicious,womb,visto,h,major,willow,neighborhood,static,wealth,reel,yer,isol,joint,dónde,venus,dijo,evri,wolv,ventana,lala,cariño,dinero,africa,coraz,homi,sock,arena,support,credit,regga,repres,miro,matin,sleepi,worthless,video,griev,meiner,branch,achiev,denk,vielä,demain,maze,knockin,correct,dial,file,misma,soi,malo,filthi,jim,juic,convict,cycl,ceux,perdu,ello,disturb,pein,chocol,rapper,olvid,forgiven,sinn,tend,corpor,tunnel,loca,dai,legend,dimens,tief,idol,dyin,forsaken,allá,fella,physic,matar,tragic,gris,soll,forti,communic,dough,england,denial,där,liv,local,algún,urg,céu,hijo,taxi,ambit,voyag,locura,mere,dull,unleash,tread,smokin,william,gleam,civil,defi,haga,amongst,ob,heed,bull,host,dieu,villag,unkind,altar,arriba,sal,lisa,bunch,croi,weiter,pardon,aller,despit,ignit,cotton,nei,dr,verd,phase,porta,gracia,tue,depoi,link,intern,seventeen,decirt,shes,coffin,hound,decept,health,frei,alibi,vengo,bled,rubi,leaf,attempt,tienen,llorando,suelo,thumb,razon,rode,sober,buen,pela,cum,joka,iâ,crimson,height,frost,acid,glaub,net,pimp,empezar,font,selbst,shepherd,hunter,jive,prevail,jaw,circus,sia,background,fairi,sufrir,quieren,symbol,sabor,geh,sulla,jeden,peak,plot,guarda,blanco,manag,safeti,sleepless,chez,liquor,narrow,explos,object,there’,meal,unholi,nós,deiner,untru,wah,fountain,ô,penso,spider,mata,inde,poet,flicker,vote,tank,salli,scale,halfway,jsui,traum,keepin,foe,honesti,creer,missin,torch,infinit,niña,wär,haus,holler,gott,attend,skill,ref,atom,bas,scorn,cap,hem,keiner,olhar,vibrat,faint,nen,offic,pave,peux,stroll,piu,bello,ahi,voodoo,cétait,caricia,knot,thirti,thigh,tuyo,tenga,process,duro,estribillo,gern,valentin,fright,spiritu,stock,fiction,senti,memphi,padr,¿qué,olla,overwhelm,mami,glimps,friendship,vampir,paralyz,lifeless,coke,hardcor,pistol,bush,cherish,spiral,infin,weav,sack,bam,hacen,dalla,inna,chin,parasit,contact,dado,losin,était,fleur,raus,weh,wage,tambien,dissolv,won’t,cu,puoi,superstar,searchin,ali,nueva,hart,diss,tenert,whoo,almighti,unwind,plea,sexual,dew,negat,bu,spoil,junki,puppet,gin,blossom,fuss,plein,vast,stell,histoir,stroke,â,seam,rey,medo,prefer,northern,author,disgust,dure,devant,wretch,sarà,atmospher,daydream,pipe,remors,martyr,yonder,moin,hizo,sneak,debe,abyss,version,papel,comprend,uhhuh,isso,oooo,pon,gutter,rate,vaikka,pavement,od,dusti,roller,label,deck,vultur,tun,careless,glide,wirklich,pawn,vorbei,fifteen,bord,nut,mentr,quis,spanish,impos,fifti,stink,leap,jahr,penetr,dam,ritual,fellow,clip,suppli,flee,elev,mail,ribbon,corr,hospit,aina,ladder,wail,bathroom,dá,sait,jenni,heur,revolv,barrio,knive,vice,firm,chicago,ikk,breakfast,että,despu,darker,upset,oblivion,hustl,favourit,reward,servant,rewind,primavera,culpa,enslav,solament,ditt,charli,pueblo,fuse,aquella,toca,tin,opposit,propheci,zur,oughta,sorriso,carpet,servic,dort,oscuridad,comput,mont,olvidart,butt,invent,acaba,strive,muev,chord,sleepin,foul,scrape,erst,captiv,ey,bid,ohhhh,jar,drew,definit,wonderin,slight,pole,fascin,shorti,bark,killin,produc,alguém,mystic,peep,grate,tranc,nube,resto,nome,oppress,batter,bike,liegt,harri,medic,glück,accid,waltz,asshol,soñar,stall,problema,deixa,finest,fácil,rome,quedo,savag,bonita,politician,seiz,general,hör,parl,independ,très,wirst,ain,perchè,seit,dine,pollut,french,phrase,niemal,circumst,rattl,musiqu,romant,ultim,deinem,union,habe,stench,sest,couch,sourir,accus,determin,risa,prime,nom,enamorado,hater,egal,bonheur,meadow,klar,saudad,beep,shotgun,gira,contar,lamp,elvi,trumpet,porch,graveyard,gentlemen,seren,grito,vil,glitter,larg,kopf,secreto,group,profit,declin,lou,sour,involv,quizá,boo,project,materi,ilusión,noel,placer,execut,revers,luci,gambl,summon,também,mua,señor,fest,melhor,madrugada,fo,microphon,claro,virus,explor,speech,venom,fino,sehr,hän,vacat,partner,cualquier,youâr,sotto,doorway,silhouett,notion,entrar,market,slay,rail,mold,rêve,yah,raven,insiem,knight,cuento,heb,cose,bli,eterno,digniti,escapar,depui,adventur,depart,letra,mulher,lawn,får,essenc,fr,paus,caminar,outra,tut,sil,preciso,obscur,się,smack,slut,childhood,gå,memoria,lipstick,shinin,photo,enchant,tocar,hei,ira,farther,sport,gasolin,enää,latest,rosi,guardo,fiend,concentr,mina,palac,aboard,strife,lágrima,llora,anchor,dreamt,corn,clay,déjà,café,dah,dizzi,spray,messiah,voix,brake,pleur,cafe,sum,pet,jade,combin,può,tod,hur,hogi,apathi,desol,crippl,axe,rabbit,sanctuari,valor,transform,uniform,confront,swift,barrel,filth,vrai,entonc,lune,masquerad,mississippi,chime,50,railroad,qua,llego,actual,shoulda,gloom,escond,perd,15,jama,conoc,aaah,abr,don`t,blut,inn,phantom,appeal,plug,vaniti,poni,mainten,cristal,fearless,stitch,fragment,clutch,pecho,30,squad,cambio,makeup,stalk,surf,outer,basement,obscen,gehn,passé,fiddl,steve,boulevard,chart,arrang,increas,septemb,i`m,rua,endlich,weer,guitarra,leve,evolut,wooden,querert,vraiment,kickin,unter,logic,40,toma,feat,gotten,tryna,mire,esser,hid,wasteland,fighter,då,husband,jumpin,suo,machen,pathet,pasión,maim,program,demasiado,majesti,retreat,appreci,daze,challeng,queria,letzt,nosotro,sogno,ku,subject,standard,troppo,jazz,opportun,sehn,miser,col,legion,submit,qualquer,cough,medio,teen,wilder,sed,peau,pone,studi,dije,jacket,overflow,vient,suprem,butcher,balloon,pushin,mnie,tradit,pane,cur,stomp,alegr,judgment,industri,jugar,introduc,lai,esquina,venir,iba,taint,pude,counti,fleet,sinä,rêves,allah,groovi,sogni,chrome,blah,genocid,kalt,,unreal,slumber,thiev,frank,id,lurk,unhappi,ihm,morena,chico,dusk,cuatro,lap,sve,dynamit,blick,twin,muer,dub,yi,thirsti,skirt,hopin,predict,heroin,escucha,ormai,wonderland,scari,steer,genau,besoin,ana,llanto,screamin,routin,contr,tooth,paura,sopra,perdida,vuela,fuori,eden,pierdo,remedi,cloudi,adam,raison,perro,amus,closet,tuve,ner,ano,western,ness,piedra,amiga,beef,aprè,featur,robin,decad,qued,bald,wollt,neue,whine,chees,feu,aprend,dish,leva,brauch,misunderstood,misti,diferent,habla,når,psycho,spotlight,reviv,suitcas,freund,damnat,duda,etwa,geld,stadt,cunt,mellow,poetri,lumièr,bean,print,confin,kommen,domani,correr,perman,strada,inhal,idl,juro,allen,upp,statu,bluebird,uniti,sitä,reckless,robe,leer,lhe,vite,modo,menschen,voltar,incred,aujourdhui,anticip,etc,pensamiento,estc,keinen,kimi,raindrop,puzzl,chemin,lindo,wax,foss,junk,veut,kaiken,contempl,skeleton,caso,wollen,ruido,grade,leau,‘caus,effort,dêtre,hippi,fil,curv,dabei,nossa,eventu,recordar,disconnect,carol,strung,infierno,daß,cousin,radiat,pal,stiff,trend,lento,aqu,terrifi,fore,vide,belov,channel,joli,parc,vuol,então,stern,cope,garbag,admir,blister,sull,mão,odio,pitch,carn,slippin,dong,seus,we’r,debo,honki,shark,cari,afar,jest,superman,pu,ust,sublim,hiphop,ident,ge,billion,rocknrol,punto,oon,romeo,geen,banana,escuchar,richard,livet,jung,fiel,noos,beggin,trunk,ink,mash,succeed,toni,bi,spinnin,powder,despierto,fou,motherfuckin,hun,butter,fatto,manchmal,llevar,fur,disagre,voll,assur,från,savoir,horizont,carnav,you´r,drunken,tuck,keeper,broad,maid,flock,déjame,gib,tellement,vieux,tango,bailando,larm,berlin,handsom,gefühl,blunt,qual,inject,timeless,schwer,gi,cor,bonni,clone,allí,mall,wink,blanca,sinto,mirando,meaningless,nessuno,laat,crap,legal,hypocrit,hermano,pasion,aid,brooklyn,donc,jak,delus,term,primera,pourtant,layin,conceiv,seel,devast,slick,vega,pluie,tax,frío,ty,virtu,lontano,unabl,distress,bla,ember,wee,mmmm,pedir,beckon,galaxi,diz,ley,passo,mous,issu,absurd,imma,zoo,rocki,pide,jackson,neat,itch,insect,starlight,shred,000,segundo,nooit,avait,bonito,foundat,13,mag,scarlet,lunch,cansado,leak,près,bah,giorni,siehst,consol,flirt,absenc,lalala,comprehend,hin,scum,stride,fingertip,lua,translat,reput,starri,conclus,pouco,belt,alltid,sig,tribe,illumin,knowin,weet,forg,minor,behav,oli,croir,troi,passer,dautr,vela,anyhow,mock,habrá,bir,espejo,intens,saddl,glue,rendezv,cd,kai,mío,tô,rave,dimmi,retir,vara,molli,forbidden,combat,trippin,ingent,deepli,puttin,silk,paranoia,weißt,whirl,duti,quedan,adentro,ditch,shave,esté,sicken,premier,bleib,reliev,restor,unawar,quella,dash,gore,acabar,kissin,indiffer,temperatur,messin,río,rumbl,argu,freeway,mutta,vuelto,manipul,annihil,mek,unspoken,passag,minuto,fora,cosmic,despierta,betti,request,pudiera,bucket,proper,ace,gritar,puro,gown,chapter,digit,actor,cambia,prendr,creator,skate,askin,difícil,flown,nurs,sim,waist,gleich,saben,collar,joue,demai,current,naiv,flaw,16,doigt,olvida,comb,headlight,diablo,suav,ascend,cree,vete,pledg,mistaken,method,vagu,dura,voit,maiden,sangu,ando,element,cae,entir,alleluia,oft,intox,besser,pueden,rug,aura,guest,chamber,sere,jukebox,skinni,wissen,holla,cherch,hurtin,eager,hij,tenemo,dedo,droit,glisten,assassin,landscap,alleen,mutil,seein,senseless,golp,lili,canât,jaurai,auto,kvar,structur,assum,veneno,spawn,proclaim,threaten,distancia,magia,swirl,curious,complex,uptown,100,advanc,alegría,empieza,hah,dug,aquello,lucif,cruz,jamaica,flavor,kuinka,uit,24,anguish,foto,chat,jétai,caminho,observ,altro,javai,yang,oer,nickel,booz,sew,música,stai,naughti,entiendo,står,champion,forsak,seventh,capit,writer,motivo,bake,insist,wel,santo,pe,gee,colleg,kad\n",
      "TRAAAAV128F421A322,4623710,1:6,2:4,3:2,4:2,5:5,6:3,7:1,8:1,11:1,12:2,13:3,14:1,15:1,18:2,19:2,20:2,21:2,23:4,25:1,26:2,28:1,30:1,36:2,42:1,45:1,54:2,56:1,57:1,68:1,99:1,192:2,249:1,264:1,356:1,389:1,561:1,639:1,656:1,687:1,761:1,773:1,804:1,869:2,914:1,1035:1,1156:1,1221:1,1287:1,1364:1,1407:1,1533:2,1857:1,2096:1,2117:1,2482:2,2548:1,2705:1,2723:1,2868:2,2992:2,3455:1,3717:1,3851:1,4322:1,4382:1,4613:1,4713:1,4906:1\n",
      "TRAAABD128F429CF47,6477168,1:10,3:17,4:8,5:2,6:2,7:1,8:3,9:2,10:3,11:4,12:3,14:7,15:5,16:5,18:6,23:4,24:1,26:6,28:2,29:5,31:3,33:3,35:2,39:3,40:1,43:5,47:7,52:2,57:3,58:2,61:2,62:2,68:2,71:4,74:2,76:4,81:5,84:2,86:3,87:2,88:2,89:2,92:2,101:1,107:1,111:2,113:1,118:3,119:2,130:3,131:3,165:1,168:1,169:2,178:4,180:2,188:2,196:7,200:1,219:2,229:2,256:1,279:2,349:4,384:1,393:2,424:2,472:3,589:1,843:2,1038:2,1351:1,1542:2,2437:2\n"
     ]
    }
   ],
   "source": [
    "with open(MXM_PATH, 'r', encoding='utf-8') as f:\n",
    "    for _ in range(20):\n",
    "        print(f.readline().strip())"
   ]
  },
  {
   "cell_type": "code",
   "execution_count": 4,
   "metadata": {
    "execution": {
     "iopub.execute_input": "2025-04-18T01:37:52.941912Z",
     "iopub.status.busy": "2025-04-18T01:37:52.941096Z",
     "iopub.status.idle": "2025-04-18T01:37:53.526076Z",
     "shell.execute_reply": "2025-04-18T01:37:53.525433Z",
     "shell.execute_reply.started": "2025-04-18T01:37:52.941874Z"
    },
    "trusted": true
   },
   "outputs": [
    {
     "data": {
      "text/html": [
       "<div>\n",
       "<style scoped>\n",
       "    .dataframe tbody tr th:only-of-type {\n",
       "        vertical-align: middle;\n",
       "    }\n",
       "\n",
       "    .dataframe tbody tr th {\n",
       "        vertical-align: top;\n",
       "    }\n",
       "\n",
       "    .dataframe thead th {\n",
       "        text-align: right;\n",
       "    }\n",
       "</style>\n",
       "<table border=\"1\" class=\"dataframe\">\n",
       "  <thead>\n",
       "    <tr style=\"text-align: right;\">\n",
       "      <th></th>\n",
       "      <th>track_id</th>\n",
       "      <th>name</th>\n",
       "      <th>artist</th>\n",
       "      <th>spotify_preview_url</th>\n",
       "      <th>spotify_id</th>\n",
       "      <th>tags</th>\n",
       "      <th>genre</th>\n",
       "      <th>year</th>\n",
       "      <th>duration_ms</th>\n",
       "      <th>danceability</th>\n",
       "      <th>...</th>\n",
       "      <th>key</th>\n",
       "      <th>loudness</th>\n",
       "      <th>mode</th>\n",
       "      <th>speechiness</th>\n",
       "      <th>acousticness</th>\n",
       "      <th>instrumentalness</th>\n",
       "      <th>liveness</th>\n",
       "      <th>valence</th>\n",
       "      <th>tempo</th>\n",
       "      <th>time_signature</th>\n",
       "    </tr>\n",
       "  </thead>\n",
       "  <tbody>\n",
       "    <tr>\n",
       "      <th>0</th>\n",
       "      <td>TRIOREW128F424EAF0</td>\n",
       "      <td>Mr. Brightside</td>\n",
       "      <td>The Killers</td>\n",
       "      <td>https://p.scdn.co/mp3-preview/4d26180e6961fd46...</td>\n",
       "      <td>09ZQ5TmUG8TSL56n0knqrj</td>\n",
       "      <td>rock, alternative, indie, alternative_rock, in...</td>\n",
       "      <td>NaN</td>\n",
       "      <td>2004</td>\n",
       "      <td>222200</td>\n",
       "      <td>0.355</td>\n",
       "      <td>...</td>\n",
       "      <td>1</td>\n",
       "      <td>-4.360</td>\n",
       "      <td>1</td>\n",
       "      <td>0.0746</td>\n",
       "      <td>0.001190</td>\n",
       "      <td>0.000000</td>\n",
       "      <td>0.0971</td>\n",
       "      <td>0.240</td>\n",
       "      <td>148.114</td>\n",
       "      <td>4</td>\n",
       "    </tr>\n",
       "    <tr>\n",
       "      <th>1</th>\n",
       "      <td>TRRIVDJ128F429B0E8</td>\n",
       "      <td>Wonderwall</td>\n",
       "      <td>Oasis</td>\n",
       "      <td>https://p.scdn.co/mp3-preview/d012e536916c927b...</td>\n",
       "      <td>06UfBBDISthj1ZJAtX4xjj</td>\n",
       "      <td>rock, alternative, indie, pop, alternative_roc...</td>\n",
       "      <td>NaN</td>\n",
       "      <td>2006</td>\n",
       "      <td>258613</td>\n",
       "      <td>0.409</td>\n",
       "      <td>...</td>\n",
       "      <td>2</td>\n",
       "      <td>-4.373</td>\n",
       "      <td>1</td>\n",
       "      <td>0.0336</td>\n",
       "      <td>0.000807</td>\n",
       "      <td>0.000000</td>\n",
       "      <td>0.2070</td>\n",
       "      <td>0.651</td>\n",
       "      <td>174.426</td>\n",
       "      <td>4</td>\n",
       "    </tr>\n",
       "    <tr>\n",
       "      <th>2</th>\n",
       "      <td>TROUVHL128F426C441</td>\n",
       "      <td>Come as You Are</td>\n",
       "      <td>Nirvana</td>\n",
       "      <td>https://p.scdn.co/mp3-preview/a1c11bb1cb231031...</td>\n",
       "      <td>0keNu0t0tqsWtExGM3nT1D</td>\n",
       "      <td>rock, alternative, alternative_rock, 90s, grunge</td>\n",
       "      <td>RnB</td>\n",
       "      <td>1991</td>\n",
       "      <td>218920</td>\n",
       "      <td>0.508</td>\n",
       "      <td>...</td>\n",
       "      <td>4</td>\n",
       "      <td>-5.783</td>\n",
       "      <td>0</td>\n",
       "      <td>0.0400</td>\n",
       "      <td>0.000175</td>\n",
       "      <td>0.000459</td>\n",
       "      <td>0.0878</td>\n",
       "      <td>0.543</td>\n",
       "      <td>120.012</td>\n",
       "      <td>4</td>\n",
       "    </tr>\n",
       "    <tr>\n",
       "      <th>3</th>\n",
       "      <td>TRUEIND128F93038C4</td>\n",
       "      <td>Take Me Out</td>\n",
       "      <td>Franz Ferdinand</td>\n",
       "      <td>https://p.scdn.co/mp3-preview/399c401370438be4...</td>\n",
       "      <td>0ancVQ9wEcHVd0RrGICTE4</td>\n",
       "      <td>rock, alternative, indie, alternative_rock, in...</td>\n",
       "      <td>NaN</td>\n",
       "      <td>2004</td>\n",
       "      <td>237026</td>\n",
       "      <td>0.279</td>\n",
       "      <td>...</td>\n",
       "      <td>9</td>\n",
       "      <td>-8.851</td>\n",
       "      <td>1</td>\n",
       "      <td>0.0371</td>\n",
       "      <td>0.000389</td>\n",
       "      <td>0.000655</td>\n",
       "      <td>0.1330</td>\n",
       "      <td>0.490</td>\n",
       "      <td>104.560</td>\n",
       "      <td>4</td>\n",
       "    </tr>\n",
       "    <tr>\n",
       "      <th>4</th>\n",
       "      <td>TRLNZBD128F935E4D8</td>\n",
       "      <td>Creep</td>\n",
       "      <td>Radiohead</td>\n",
       "      <td>https://p.scdn.co/mp3-preview/e7eb60e9466bc3a2...</td>\n",
       "      <td>01QoK9DA7VTeTSE3MNzp4I</td>\n",
       "      <td>rock, alternative, indie, alternative_rock, in...</td>\n",
       "      <td>RnB</td>\n",
       "      <td>2008</td>\n",
       "      <td>238640</td>\n",
       "      <td>0.515</td>\n",
       "      <td>...</td>\n",
       "      <td>7</td>\n",
       "      <td>-9.935</td>\n",
       "      <td>1</td>\n",
       "      <td>0.0369</td>\n",
       "      <td>0.010200</td>\n",
       "      <td>0.000141</td>\n",
       "      <td>0.1290</td>\n",
       "      <td>0.104</td>\n",
       "      <td>91.841</td>\n",
       "      <td>4</td>\n",
       "    </tr>\n",
       "  </tbody>\n",
       "</table>\n",
       "<p>5 rows × 21 columns</p>\n",
       "</div>"
      ],
      "text/plain": [
       "             track_id             name           artist  \\\n",
       "0  TRIOREW128F424EAF0   Mr. Brightside      The Killers   \n",
       "1  TRRIVDJ128F429B0E8       Wonderwall            Oasis   \n",
       "2  TROUVHL128F426C441  Come as You Are          Nirvana   \n",
       "3  TRUEIND128F93038C4      Take Me Out  Franz Ferdinand   \n",
       "4  TRLNZBD128F935E4D8            Creep        Radiohead   \n",
       "\n",
       "                                 spotify_preview_url              spotify_id  \\\n",
       "0  https://p.scdn.co/mp3-preview/4d26180e6961fd46...  09ZQ5TmUG8TSL56n0knqrj   \n",
       "1  https://p.scdn.co/mp3-preview/d012e536916c927b...  06UfBBDISthj1ZJAtX4xjj   \n",
       "2  https://p.scdn.co/mp3-preview/a1c11bb1cb231031...  0keNu0t0tqsWtExGM3nT1D   \n",
       "3  https://p.scdn.co/mp3-preview/399c401370438be4...  0ancVQ9wEcHVd0RrGICTE4   \n",
       "4  https://p.scdn.co/mp3-preview/e7eb60e9466bc3a2...  01QoK9DA7VTeTSE3MNzp4I   \n",
       "\n",
       "                                                tags genre  year  duration_ms  \\\n",
       "0  rock, alternative, indie, alternative_rock, in...   NaN  2004       222200   \n",
       "1  rock, alternative, indie, pop, alternative_roc...   NaN  2006       258613   \n",
       "2   rock, alternative, alternative_rock, 90s, grunge   RnB  1991       218920   \n",
       "3  rock, alternative, indie, alternative_rock, in...   NaN  2004       237026   \n",
       "4  rock, alternative, indie, alternative_rock, in...   RnB  2008       238640   \n",
       "\n",
       "   danceability  ...  key  loudness  mode  speechiness  acousticness  \\\n",
       "0         0.355  ...    1    -4.360     1       0.0746      0.001190   \n",
       "1         0.409  ...    2    -4.373     1       0.0336      0.000807   \n",
       "2         0.508  ...    4    -5.783     0       0.0400      0.000175   \n",
       "3         0.279  ...    9    -8.851     1       0.0371      0.000389   \n",
       "4         0.515  ...    7    -9.935     1       0.0369      0.010200   \n",
       "\n",
       "   instrumentalness  liveness  valence    tempo  time_signature  \n",
       "0          0.000000    0.0971    0.240  148.114               4  \n",
       "1          0.000000    0.2070    0.651  174.426               4  \n",
       "2          0.000459    0.0878    0.543  120.012               4  \n",
       "3          0.000655    0.1330    0.490  104.560               4  \n",
       "4          0.000141    0.1290    0.104   91.841               4  \n",
       "\n",
       "[5 rows x 21 columns]"
      ]
     },
     "execution_count": 4,
     "metadata": {},
     "output_type": "execute_result"
    }
   ],
   "source": [
    "df_tracks = pd.read_csv(TRACKS_PATH)\n",
    "df_tracks.head()"
   ]
  },
  {
   "cell_type": "code",
   "execution_count": 5,
   "metadata": {
    "execution": {
     "iopub.execute_input": "2025-04-18T01:37:58.225559Z",
     "iopub.status.busy": "2025-04-18T01:37:58.225282Z",
     "iopub.status.idle": "2025-04-18T01:37:58.243957Z",
     "shell.execute_reply": "2025-04-18T01:37:58.243380Z",
     "shell.execute_reply.started": "2025-04-18T01:37:58.225536Z"
    },
    "trusted": true
   },
   "outputs": [
    {
     "name": "stdout",
     "output_type": "stream",
     "text": [
      "Tables: [('similars_src',), ('similars_dest_tmp',), ('similars_dest',)]\n"
     ]
    }
   ],
   "source": [
    "import sqlite3\n",
    "\n",
    "LASTFM_DB = \"/kaggle/input/lastfm/lastfm_similars.db\"\n",
    "conn = sqlite3.connect(LASTFM_DB)\n",
    "\n",
    "# View available tables\n",
    "cursor = conn.cursor()\n",
    "cursor.execute(\"SELECT name FROM sqlite_master WHERE type='table';\")\n",
    "print(\"Tables:\", cursor.fetchall())\n"
   ]
  },
  {
   "cell_type": "code",
   "execution_count": 7,
   "metadata": {
    "execution": {
     "iopub.execute_input": "2025-04-18T01:38:50.138783Z",
     "iopub.status.busy": "2025-04-18T01:38:50.138097Z",
     "iopub.status.idle": "2025-04-18T01:39:16.657458Z",
     "shell.execute_reply": "2025-04-18T01:39:16.656580Z",
     "shell.execute_reply.started": "2025-04-18T01:38:50.138759Z"
    },
    "trusted": true
   },
   "outputs": [
    {
     "data": {
      "text/html": [
       "<div>\n",
       "<style scoped>\n",
       "    .dataframe tbody tr th:only-of-type {\n",
       "        vertical-align: middle;\n",
       "    }\n",
       "\n",
       "    .dataframe tbody tr th {\n",
       "        vertical-align: top;\n",
       "    }\n",
       "\n",
       "    .dataframe thead th {\n",
       "        text-align: right;\n",
       "    }\n",
       "</style>\n",
       "<table border=\"1\" class=\"dataframe\">\n",
       "  <thead>\n",
       "    <tr style=\"text-align: right;\">\n",
       "      <th></th>\n",
       "      <th>tid</th>\n",
       "      <th>target</th>\n",
       "    </tr>\n",
       "  </thead>\n",
       "  <tbody>\n",
       "    <tr>\n",
       "      <th>0</th>\n",
       "      <td>TRCCCYE12903CFF0E9</td>\n",
       "      <td>TRHZRQH128F92F9AC2,0.498053,TRZQUEN12903CBFFBB...</td>\n",
       "    </tr>\n",
       "    <tr>\n",
       "      <th>1</th>\n",
       "      <td>TRCCCPM12903CBEEE5</td>\n",
       "      <td>TRNRRXT12903CFAD5A,1,TRWVNWV12903CBEEE7,0.5238...</td>\n",
       "    </tr>\n",
       "    <tr>\n",
       "      <th>2</th>\n",
       "      <td>TRCCCFH12903CEBC70</td>\n",
       "      <td>TRRGGCN128F92E3579,0.646036,TRTVJGV128F424A147...</td>\n",
       "    </tr>\n",
       "    <tr>\n",
       "      <th>3</th>\n",
       "      <td>TRCCCJT128F429FFF6</td>\n",
       "      <td>TRZSKOT128F429FFFC,1,TRYVKKD12903CEB9E2,1,TRVC...</td>\n",
       "    </tr>\n",
       "    <tr>\n",
       "      <th>4</th>\n",
       "      <td>TRCCCBJ128F4286E6F</td>\n",
       "      <td>TRHUKZN128F428B2BD,1,TRMMPCY128F4253A20,0.9906...</td>\n",
       "    </tr>\n",
       "  </tbody>\n",
       "</table>\n",
       "</div>"
      ],
      "text/plain": [
       "                  tid                                             target\n",
       "0  TRCCCYE12903CFF0E9  TRHZRQH128F92F9AC2,0.498053,TRZQUEN12903CBFFBB...\n",
       "1  TRCCCPM12903CBEEE5  TRNRRXT12903CFAD5A,1,TRWVNWV12903CBEEE7,0.5238...\n",
       "2  TRCCCFH12903CEBC70  TRRGGCN128F92E3579,0.646036,TRTVJGV128F424A147...\n",
       "3  TRCCCJT128F429FFF6  TRZSKOT128F429FFFC,1,TRYVKKD12903CEB9E2,1,TRVC...\n",
       "4  TRCCCBJ128F4286E6F  TRHUKZN128F428B2BD,1,TRMMPCY128F4253A20,0.9906..."
      ]
     },
     "execution_count": 7,
     "metadata": {},
     "output_type": "execute_result"
    }
   ],
   "source": [
    "import sqlite3\n",
    "import pandas as pd\n",
    "\n",
    "LASTFM_DB = \"/kaggle/input/lastfm/lastfm_similars.db\"\n",
    "conn = sqlite3.connect(LASTFM_DB)\n",
    "\n",
    "# Load from the final table\n",
    "df_sim = pd.read_sql_query(\"SELECT * FROM similars_src\", conn)\n",
    "conn.close()\n",
    "\n",
    "# Inspect\n",
    "df_sim.head()\n"
   ]
  },
  {
   "cell_type": "code",
   "execution_count": 8,
   "metadata": {
    "execution": {
     "iopub.execute_input": "2025-04-18T01:39:16.659575Z",
     "iopub.status.busy": "2025-04-18T01:39:16.658977Z",
     "iopub.status.idle": "2025-04-18T01:39:33.089442Z",
     "shell.execute_reply": "2025-04-18T01:39:33.088512Z",
     "shell.execute_reply.started": "2025-04-18T01:39:16.659545Z"
    },
    "trusted": true
   },
   "outputs": [
    {
     "name": "stdout",
     "output_type": "stream",
     "text": [
      "Loading musiXmatch lyrics...\n",
      "Loaded lyrics for 210519 tracks.\n"
     ]
    }
   ],
   "source": [
    "print(\"Loading musiXmatch lyrics...\")\n",
    "\n",
    "with open(MXM_PATH, encoding='utf-8') as f:\n",
    "    lines = f.readlines()\n",
    "\n",
    "# Parse top words\n",
    "top_words = []\n",
    "for line in lines:\n",
    "    if line.startswith('%'):\n",
    "        top_words = line[1:].strip().split(',')\n",
    "        break\n",
    "\n",
    "# Parse each song's BOW vector\n",
    "lyrics_dict = {}\n",
    "for line in lines:\n",
    "    if line.startswith('#') or line.startswith('%'):\n",
    "        continue\n",
    "    parts = line.strip().split(',')\n",
    "    track_id = parts[0]\n",
    "    word_pairs = parts[2:]\n",
    "\n",
    "    bow = {}\n",
    "    for wp in word_pairs:\n",
    "        if ':' in wp:\n",
    "            idx, count = wp.split(':')\n",
    "            idx = int(idx) - 1\n",
    "            if idx < len(top_words):\n",
    "                bow[top_words[idx]] = int(count)\n",
    "    lyrics_dict[track_id] = bow\n",
    "\n",
    "print(f\"Loaded lyrics for {len(lyrics_dict)} tracks.\")"
   ]
  },
  {
   "cell_type": "code",
   "execution_count": 9,
   "metadata": {
    "execution": {
     "iopub.execute_input": "2025-04-18T01:39:33.090732Z",
     "iopub.status.busy": "2025-04-18T01:39:33.090424Z",
     "iopub.status.idle": "2025-04-18T01:40:50.115534Z",
     "shell.execute_reply": "2025-04-18T01:40:50.114790Z",
     "shell.execute_reply.started": "2025-04-18T01:39:33.090707Z"
    },
    "trusted": true
   },
   "outputs": [
    {
     "name": "stdout",
     "output_type": "stream",
     "text": [
      "✅ Expanded to 56506688 strong similarity pairs.\n"
     ]
    },
    {
     "data": {
      "text/html": [
       "<div>\n",
       "<style scoped>\n",
       "    .dataframe tbody tr th:only-of-type {\n",
       "        vertical-align: middle;\n",
       "    }\n",
       "\n",
       "    .dataframe tbody tr th {\n",
       "        vertical-align: top;\n",
       "    }\n",
       "\n",
       "    .dataframe thead th {\n",
       "        text-align: right;\n",
       "    }\n",
       "</style>\n",
       "<table border=\"1\" class=\"dataframe\">\n",
       "  <thead>\n",
       "    <tr style=\"text-align: right;\">\n",
       "      <th></th>\n",
       "      <th>track_id1</th>\n",
       "      <th>track_id2</th>\n",
       "      <th>score</th>\n",
       "    </tr>\n",
       "  </thead>\n",
       "  <tbody>\n",
       "    <tr>\n",
       "      <th>0</th>\n",
       "      <td>TRCCCYE12903CFF0E9</td>\n",
       "      <td>TRHZRQH128F92F9AC2</td>\n",
       "      <td>0.498053</td>\n",
       "    </tr>\n",
       "    <tr>\n",
       "      <th>1</th>\n",
       "      <td>TRCCCYE12903CFF0E9</td>\n",
       "      <td>TRZQUEN12903CBFFBB</td>\n",
       "      <td>0.498053</td>\n",
       "    </tr>\n",
       "    <tr>\n",
       "      <th>2</th>\n",
       "      <td>TRCCCYE12903CFF0E9</td>\n",
       "      <td>TRIRQTJ12903CAC5C4</td>\n",
       "      <td>0.498053</td>\n",
       "    </tr>\n",
       "    <tr>\n",
       "      <th>3</th>\n",
       "      <td>TRCCCYE12903CFF0E9</td>\n",
       "      <td>TRNLGXS12903CBFF8E</td>\n",
       "      <td>0.498053</td>\n",
       "    </tr>\n",
       "    <tr>\n",
       "      <th>4</th>\n",
       "      <td>TRCCCYE12903CFF0E9</td>\n",
       "      <td>TRXAOIV12903CAC665</td>\n",
       "      <td>0.498053</td>\n",
       "    </tr>\n",
       "  </tbody>\n",
       "</table>\n",
       "</div>"
      ],
      "text/plain": [
       "            track_id1           track_id2     score\n",
       "0  TRCCCYE12903CFF0E9  TRHZRQH128F92F9AC2  0.498053\n",
       "1  TRCCCYE12903CFF0E9  TRZQUEN12903CBFFBB  0.498053\n",
       "2  TRCCCYE12903CFF0E9  TRIRQTJ12903CAC5C4  0.498053\n",
       "3  TRCCCYE12903CFF0E9  TRNLGXS12903CBFF8E  0.498053\n",
       "4  TRCCCYE12903CFF0E9  TRXAOIV12903CAC665  0.498053"
      ]
     },
     "execution_count": 9,
     "metadata": {},
     "output_type": "execute_result"
    }
   ],
   "source": [
    "import sqlite3\n",
    "import pandas as pd\n",
    "\n",
    "# Expand the 'target' field into multiple rows\n",
    "expanded_rows = []\n",
    "\n",
    "for idx, row in df_sim.iterrows():\n",
    "    src_id = row['tid']\n",
    "    target_str = row['target']\n",
    "    if pd.isna(target_str):\n",
    "        continue\n",
    "    \n",
    "    parts = target_str.split(',')\n",
    "    for i in range(0, len(parts)-1, 2):  # every (track_id, score) pair\n",
    "        try:\n",
    "            tgt_id = parts[i]\n",
    "            score = float(parts[i+1])\n",
    "            expanded_rows.append((src_id, tgt_id, score))\n",
    "        except:\n",
    "            continue\n",
    "\n",
    "# Create DataFrame\n",
    "df_sim = pd.DataFrame(expanded_rows, columns=['track_id1', 'track_id2', 'score'])\n",
    "\n",
    "print(f\"✅ Expanded to {len(df_sim)} strong similarity pairs.\")\n",
    "df_sim.head()\n"
   ]
  },
  {
   "cell_type": "code",
   "execution_count": 10,
   "metadata": {
    "execution": {
     "iopub.execute_input": "2025-04-18T01:40:50.117420Z",
     "iopub.status.busy": "2025-04-18T01:40:50.117125Z",
     "iopub.status.idle": "2025-04-18T01:40:51.097472Z",
     "shell.execute_reply": "2025-04-18T01:40:51.096693Z",
     "shell.execute_reply.started": "2025-04-18T01:40:50.117395Z"
    },
    "trusted": true
   },
   "outputs": [
    {
     "data": {
      "text/plain": [
       "0"
      ]
     },
     "execution_count": 10,
     "metadata": {},
     "output_type": "execute_result"
    }
   ],
   "source": [
    "import gc\n",
    "gc.collect()"
   ]
  },
  {
   "cell_type": "code",
   "execution_count": 11,
   "metadata": {
    "execution": {
     "iopub.execute_input": "2025-04-18T01:40:51.098528Z",
     "iopub.status.busy": "2025-04-18T01:40:51.098259Z",
     "iopub.status.idle": "2025-04-18T02:40:31.353229Z",
     "shell.execute_reply": "2025-04-18T02:40:31.352572Z",
     "shell.execute_reply.started": "2025-04-18T01:40:51.098502Z"
    },
    "trusted": true
   },
   "outputs": [
    {
     "name": "stdout",
     "output_type": "stream",
     "text": [
      "Starting now\n"
     ]
    }
   ],
   "source": [
    "import random\n",
    "import pandas as pd\n",
    "from tqdm import tqdm\n",
    "\n",
    "positive_pairs = set(map(tuple, df_sim[['track_id1', 'track_id2']].values))\n",
    "\n",
    "# Use the actual lyrics keys to ensure negative pairs have lyrics\n",
    "track_ids = list(lyrics_dict.keys())\n",
    "\n",
    "# Generate N random negatives\n",
    "N = 50_000\n",
    "import numpy as np\n",
    "print(\"Starting now\")\n",
    "gc.collect()\n",
    "\n",
    "def generate_negatives(num_neg, all_ids, positive_set):\n",
    "    negs = set()\n",
    "    while len(negs) < num_neg:\n",
    "        t1 = np.random.choice(all_ids)\n",
    "        t2 = np.random.choice(all_ids)\n",
    "        if t1 != t2 and (t1, t2) not in positive_set and (t2, t1) not in positive_set:\n",
    "            negs.add((t1, t2))\n",
    "    return list(negs)\n",
    "\n",
    "neg_pairs = generate_negatives(N, track_ids, positive_pairs)\n",
    "df_neg = pd.DataFrame(neg_pairs, columns=['track_id1', 'track_id2'])\n",
    "df_neg['score'] = 0.0"
   ]
  },
  {
   "cell_type": "code",
   "execution_count": 12,
   "metadata": {
    "execution": {
     "iopub.execute_input": "2025-04-18T02:41:46.470080Z",
     "iopub.status.busy": "2025-04-18T02:41:46.469761Z",
     "iopub.status.idle": "2025-04-18T02:41:53.383612Z",
     "shell.execute_reply": "2025-04-18T02:41:53.382884Z",
     "shell.execute_reply.started": "2025-04-18T02:41:46.470055Z"
    },
    "trusted": true
   },
   "outputs": [
    {
     "data": {
      "text/plain": [
       "0"
      ]
     },
     "execution_count": 12,
     "metadata": {},
     "output_type": "execute_result"
    }
   ],
   "source": [
    "import gc\n",
    "gc.collect()"
   ]
  },
  {
   "cell_type": "code",
   "execution_count": 13,
   "metadata": {
    "execution": {
     "iopub.execute_input": "2025-04-18T02:41:56.878784Z",
     "iopub.status.busy": "2025-04-18T02:41:56.878410Z",
     "iopub.status.idle": "2025-04-18T02:46:46.322747Z",
     "shell.execute_reply": "2025-04-18T02:46:46.321339Z",
     "shell.execute_reply.started": "2025-04-18T02:41:56.878757Z"
    },
    "trusted": true
   },
   "outputs": [
    {
     "name": "stdout",
     "output_type": "stream",
     "text": [
      "Streaming 7,685,234 pairs in 154 batches...\n",
      "Batch 1/154: saved 50000 rows\n",
      "Batch 2/154: saved 50000 rows\n",
      "Batch 3/154: saved 50000 rows\n",
      "Batch 4/154: saved 50000 rows\n",
      "Batch 5/154: saved 50000 rows\n",
      "Batch 6/154: saved 50000 rows\n",
      "Batch 7/154: saved 50000 rows\n",
      "Batch 8/154: saved 50000 rows\n",
      "Batch 9/154: saved 50000 rows\n",
      "Batch 10/154: saved 50000 rows\n",
      "Batch 11/154: saved 50000 rows\n",
      "Batch 12/154: saved 50000 rows\n",
      "Batch 13/154: saved 50000 rows\n",
      "Batch 14/154: saved 50000 rows\n",
      "Batch 15/154: saved 50000 rows\n",
      "Batch 16/154: saved 50000 rows\n",
      "Batch 17/154: saved 50000 rows\n",
      "Batch 18/154: saved 50000 rows\n",
      "Batch 19/154: saved 50000 rows\n",
      "Batch 20/154: saved 50000 rows\n"
     ]
    },
    {
     "ename": "KeyboardInterrupt",
     "evalue": "",
     "output_type": "error",
     "traceback": [
      "\u001b[0;31m---------------------------------------------------------------------------\u001b[0m",
      "\u001b[0;31mKeyboardInterrupt\u001b[0m                         Traceback (most recent call last)",
      "\u001b[0;32m/tmp/ipykernel_31/383537604.py\u001b[0m in \u001b[0;36m<cell line: 0>\u001b[0;34m()\u001b[0m\n\u001b[1;32m     50\u001b[0m         \u001b[0mwriter\u001b[0m \u001b[0;34m=\u001b[0m \u001b[0mcsv\u001b[0m\u001b[0;34m.\u001b[0m\u001b[0mwriter\u001b[0m\u001b[0;34m(\u001b[0m\u001b[0mf\u001b[0m\u001b[0;34m)\u001b[0m\u001b[0;34m\u001b[0m\u001b[0;34m\u001b[0m\u001b[0m\n\u001b[1;32m     51\u001b[0m         \u001b[0;32mfor\u001b[0m \u001b[0m_\u001b[0m\u001b[0;34m,\u001b[0m \u001b[0mrow\u001b[0m \u001b[0;32min\u001b[0m \u001b[0mchunk\u001b[0m\u001b[0;34m.\u001b[0m\u001b[0miterrows\u001b[0m\u001b[0;34m(\u001b[0m\u001b[0;34m)\u001b[0m\u001b[0;34m:\u001b[0m\u001b[0;34m\u001b[0m\u001b[0;34m\u001b[0m\u001b[0m\n\u001b[0;32m---> 52\u001b[0;31m             \u001b[0mwriter\u001b[0m\u001b[0;34m.\u001b[0m\u001b[0mwriterow\u001b[0m\u001b[0;34m(\u001b[0m\u001b[0;34m[\u001b[0m\u001b[0mrow\u001b[0m\u001b[0;34m[\u001b[0m\u001b[0;34m'lyrics1'\u001b[0m\u001b[0;34m]\u001b[0m\u001b[0;34m,\u001b[0m \u001b[0mrow\u001b[0m\u001b[0;34m[\u001b[0m\u001b[0;34m'lyrics2'\u001b[0m\u001b[0;34m]\u001b[0m\u001b[0;34m,\u001b[0m \u001b[0mrow\u001b[0m\u001b[0;34m[\u001b[0m\u001b[0;34m'score'\u001b[0m\u001b[0;34m]\u001b[0m\u001b[0;34m]\u001b[0m\u001b[0;34m)\u001b[0m\u001b[0;34m\u001b[0m\u001b[0;34m\u001b[0m\u001b[0m\n\u001b[0m\u001b[1;32m     53\u001b[0m \u001b[0;34m\u001b[0m\u001b[0m\n\u001b[1;32m     54\u001b[0m     \u001b[0mprint\u001b[0m\u001b[0;34m(\u001b[0m\u001b[0;34mf\"Batch {i+1}/{num_batches}: saved {len(chunk)} rows\"\u001b[0m\u001b[0;34m)\u001b[0m\u001b[0;34m\u001b[0m\u001b[0;34m\u001b[0m\u001b[0m\n",
      "\u001b[0;32m/usr/local/lib/python3.11/dist-packages/pandas/core/series.py\u001b[0m in \u001b[0;36m__getitem__\u001b[0;34m(self, key)\u001b[0m\n\u001b[1;32m   1119\u001b[0m \u001b[0;34m\u001b[0m\u001b[0m\n\u001b[1;32m   1120\u001b[0m         \u001b[0;32melif\u001b[0m \u001b[0mkey_is_scalar\u001b[0m\u001b[0;34m:\u001b[0m\u001b[0;34m\u001b[0m\u001b[0;34m\u001b[0m\u001b[0m\n\u001b[0;32m-> 1121\u001b[0;31m             \u001b[0;32mreturn\u001b[0m \u001b[0mself\u001b[0m\u001b[0;34m.\u001b[0m\u001b[0m_get_value\u001b[0m\u001b[0;34m(\u001b[0m\u001b[0mkey\u001b[0m\u001b[0;34m)\u001b[0m\u001b[0;34m\u001b[0m\u001b[0;34m\u001b[0m\u001b[0m\n\u001b[0m\u001b[1;32m   1122\u001b[0m \u001b[0;34m\u001b[0m\u001b[0m\n\u001b[1;32m   1123\u001b[0m         \u001b[0;31m# Convert generator to list before going through hashable part\u001b[0m\u001b[0;34m\u001b[0m\u001b[0;34m\u001b[0m\u001b[0m\n",
      "\u001b[0;32m/usr/local/lib/python3.11/dist-packages/pandas/core/series.py\u001b[0m in \u001b[0;36m_get_value\u001b[0;34m(self, label, takeable)\u001b[0m\n\u001b[1;32m   1238\u001b[0m \u001b[0;34m\u001b[0m\u001b[0m\n\u001b[1;32m   1239\u001b[0m         \u001b[0;32mif\u001b[0m \u001b[0mis_integer\u001b[0m\u001b[0;34m(\u001b[0m\u001b[0mloc\u001b[0m\u001b[0;34m)\u001b[0m\u001b[0;34m:\u001b[0m\u001b[0;34m\u001b[0m\u001b[0;34m\u001b[0m\u001b[0m\n\u001b[0;32m-> 1240\u001b[0;31m             \u001b[0;32mreturn\u001b[0m \u001b[0mself\u001b[0m\u001b[0;34m.\u001b[0m\u001b[0m_values\u001b[0m\u001b[0;34m[\u001b[0m\u001b[0mloc\u001b[0m\u001b[0;34m]\u001b[0m\u001b[0;34m\u001b[0m\u001b[0;34m\u001b[0m\u001b[0m\n\u001b[0m\u001b[1;32m   1241\u001b[0m \u001b[0;34m\u001b[0m\u001b[0m\n\u001b[1;32m   1242\u001b[0m         \u001b[0;32mif\u001b[0m \u001b[0misinstance\u001b[0m\u001b[0;34m(\u001b[0m\u001b[0mself\u001b[0m\u001b[0;34m.\u001b[0m\u001b[0mindex\u001b[0m\u001b[0;34m,\u001b[0m \u001b[0mMultiIndex\u001b[0m\u001b[0;34m)\u001b[0m\u001b[0;34m:\u001b[0m\u001b[0;34m\u001b[0m\u001b[0;34m\u001b[0m\u001b[0m\n",
      "\u001b[0;32m/usr/local/lib/python3.11/dist-packages/pandas/core/series.py\u001b[0m in \u001b[0;36m_values\u001b[0;34m(self)\u001b[0m\n\u001b[1;32m    829\u001b[0m         \u001b[0;32mreturn\u001b[0m \u001b[0mself\u001b[0m\u001b[0;34m.\u001b[0m\u001b[0m_mgr\u001b[0m\u001b[0;34m.\u001b[0m\u001b[0mexternal_values\u001b[0m\u001b[0;34m(\u001b[0m\u001b[0;34m)\u001b[0m\u001b[0;34m\u001b[0m\u001b[0;34m\u001b[0m\u001b[0m\n\u001b[1;32m    830\u001b[0m \u001b[0;34m\u001b[0m\u001b[0m\n\u001b[0;32m--> 831\u001b[0;31m     \u001b[0;34m@\u001b[0m\u001b[0mproperty\u001b[0m\u001b[0;34m\u001b[0m\u001b[0;34m\u001b[0m\u001b[0m\n\u001b[0m\u001b[1;32m    832\u001b[0m     \u001b[0;32mdef\u001b[0m \u001b[0m_values\u001b[0m\u001b[0;34m(\u001b[0m\u001b[0mself\u001b[0m\u001b[0;34m)\u001b[0m\u001b[0;34m:\u001b[0m\u001b[0;34m\u001b[0m\u001b[0;34m\u001b[0m\u001b[0m\n\u001b[1;32m    833\u001b[0m         \"\"\"\n",
      "\u001b[0;31mKeyboardInterrupt\u001b[0m: "
     ]
    }
   ],
   "source": [
    "import csv\n",
    "import gc\n",
    "from tqdm import tqdm\n",
    "\n",
    "def bow_to_text(bow):\n",
    "    return ' '.join([word for word, count in bow.items() for _ in range(count)])\n",
    "\n",
    "OUTPUT_PATH = \"/kaggle/working/pairs.csv\"\n",
    "\n",
    "valid_ids = set(lyrics_dict.keys())\n",
    "\n",
    "# Filter positives too\n",
    "df_sim_filtered = df_sim[\n",
    "    df_sim['track_id1'].isin(valid_ids) &\n",
    "    df_sim['track_id2'].isin(valid_ids)\n",
    "]\n",
    "\n",
    "df_neg_filtered = df_neg[\n",
    "    df_neg['track_id1'].isin(valid_ids) &\n",
    "    df_neg['track_id2'].isin(valid_ids)\n",
    "]\n",
    "\n",
    "# Now merge\n",
    "all_pairs = pd.concat([\n",
    "    df_sim_filtered[['track_id1', 'track_id2', 'score']],\n",
    "    df_neg_filtered[['track_id1', 'track_id2', 'score']]\n",
    "], ignore_index=True)\n",
    "\n",
    "batch_size = 50_000\n",
    "num_batches = len(all_pairs) // batch_size + 1\n",
    "\n",
    "# Write header\n",
    "with open(OUTPUT_PATH, 'w', newline='', encoding='utf-8') as f:\n",
    "    writer = csv.writer(f)\n",
    "    writer.writerow(['lyrics1', 'lyrics2', 'score'])\n",
    "\n",
    "# Process in chunks\n",
    "print(f\"Streaming {len(all_pairs):,} pairs in {num_batches} batches...\")\n",
    "for i in range(num_batches):\n",
    "    start = i * batch_size\n",
    "    end = min((i + 1) * batch_size, len(all_pairs))\n",
    "    chunk = all_pairs.iloc[start:end].copy()\n",
    "\n",
    "    chunk['lyrics1'] = chunk['track_id1'].map(lambda tid: bow_to_text(lyrics_dict.get(tid, {})))\n",
    "    chunk['lyrics2'] = chunk['track_id2'].map(lambda tid: bow_to_text(lyrics_dict.get(tid, {})))\n",
    "\n",
    "    # Drop empty ones\n",
    "    chunk = chunk[(chunk['lyrics1'].str.len() > 0) & (chunk['lyrics2'].str.len() > 0)]\n",
    "    with open(OUTPUT_PATH, 'a', newline='', encoding='utf-8') as f:\n",
    "        writer = csv.writer(f)\n",
    "        for _, row in chunk.iterrows():\n",
    "            writer.writerow([row['lyrics1'], row['lyrics2'], row['score']])\n",
    "\n",
    "    print(f\"Batch {i+1}/{num_batches}: saved {len(chunk)} rows\")\n",
    "    del chunk\n",
    "    gc.collect()\n",
    "\n",
    "print(\"Done! Final CSV saved to:\", OUTPUT_PATH)"
   ]
  },
  {
   "cell_type": "code",
   "execution_count": 2,
   "metadata": {},
   "outputs": [
    {
     "name": "stdout",
     "output_type": "stream",
     "text": [
      "Collecting gdown\n",
      "  Downloading gdown-5.2.0-py3-none-any.whl.metadata (5.8 kB)\n",
      "Requirement already satisfied: beautifulsoup4 in /jet/home/langevin/.conda/envs/project/lib/python3.12/site-packages (from gdown) (4.12.3)\n",
      "Collecting filelock (from gdown)\n",
      "  Downloading filelock-3.18.0-py3-none-any.whl.metadata (2.9 kB)\n",
      "Requirement already satisfied: requests[socks] in /jet/home/langevin/.conda/envs/project/lib/python3.12/site-packages (from gdown) (2.32.3)\n",
      "Collecting tqdm (from gdown)\n",
      "  Downloading tqdm-4.67.1-py3-none-any.whl.metadata (57 kB)\n",
      "Requirement already satisfied: soupsieve>1.2 in /jet/home/langevin/.conda/envs/project/lib/python3.12/site-packages (from beautifulsoup4->gdown) (2.5)\n",
      "Requirement already satisfied: charset-normalizer<4,>=2 in /jet/home/langevin/.conda/envs/project/lib/python3.12/site-packages (from requests[socks]->gdown) (3.3.2)\n",
      "Requirement already satisfied: idna<4,>=2.5 in /jet/home/langevin/.conda/envs/project/lib/python3.12/site-packages (from requests[socks]->gdown) (3.7)\n",
      "Requirement already satisfied: urllib3<3,>=1.21.1 in /jet/home/langevin/.conda/envs/project/lib/python3.12/site-packages (from requests[socks]->gdown) (2.3.0)\n",
      "Requirement already satisfied: certifi>=2017.4.17 in /jet/home/langevin/.conda/envs/project/lib/python3.12/site-packages (from requests[socks]->gdown) (2025.1.31)\n",
      "Requirement already satisfied: PySocks!=1.5.7,>=1.5.6 in /jet/home/langevin/.conda/envs/project/lib/python3.12/site-packages (from requests[socks]->gdown) (1.7.1)\n",
      "Downloading gdown-5.2.0-py3-none-any.whl (18 kB)\n",
      "Downloading filelock-3.18.0-py3-none-any.whl (16 kB)\n",
      "Downloading tqdm-4.67.1-py3-none-any.whl (78 kB)\n",
      "Installing collected packages: tqdm, filelock, gdown\n",
      "Successfully installed filelock-3.18.0 gdown-5.2.0 tqdm-4.67.1\n"
     ]
    }
   ],
   "source": [
    "!pip install gdown"
   ]
  },
  {
   "cell_type": "code",
   "execution_count": 3,
   "metadata": {
    "execution": {
     "iopub.execute_input": "2025-04-21T22:44:51.914709Z",
     "iopub.status.busy": "2025-04-21T22:44:51.914451Z",
     "iopub.status.idle": "2025-04-21T22:45:12.437595Z",
     "shell.execute_reply": "2025-04-21T22:45:12.436628Z",
     "shell.execute_reply.started": "2025-04-21T22:44:51.914684Z"
    },
    "trusted": true
   },
   "outputs": [
    {
     "name": "stdout",
     "output_type": "stream",
     "text": [
      "/jet/home/langevin/.conda/envs/project/lib/python3.12/site-packages/gdown/__main__.py:140: FutureWarning: Option `--id` was deprecated in version 4.3.1 and will be removed in 5.0. You don't need to pass it anymore to use a file ID.\n",
      "  warnings.warn(\n",
      "Downloading...\n",
      "From (original): https://drive.google.com/uc?id=1YL84jf7tKz9Ipke8-f_HivvoJXdLoklj\n",
      "From (redirected): https://drive.google.com/uc?id=1YL84jf7tKz9Ipke8-f_HivvoJXdLoklj&confirm=t&uuid=bd6342d2-709d-4c03-85e3-0c1443663f02\n",
      "To: /ocean/projects/cis250019p/langevin/pairs (4).csv\n",
      "100%|██████████████████████████████████████| 2.04G/2.04G [02:25<00:00, 14.0MB/s]\n"
     ]
    }
   ],
   "source": [
    "!gdown --id 1YL84jf7tKz9Ipke8-f_HivvoJXdLoklj"
   ]
  },
  {
   "cell_type": "markdown",
   "metadata": {},
   "source": [
    "# Model"
   ]
  },
  {
   "cell_type": "code",
   "execution_count": 11,
   "metadata": {
    "execution": {
     "iopub.execute_input": "2025-04-21T20:04:52.813753Z",
     "iopub.status.busy": "2025-04-21T20:04:52.813484Z",
     "iopub.status.idle": "2025-04-21T20:05:08.030697Z",
     "shell.execute_reply": "2025-04-21T20:05:08.030104Z",
     "shell.execute_reply.started": "2025-04-21T20:04:52.813726Z"
    },
    "trusted": true
   },
   "outputs": [],
   "source": [
    "import pandas as pd\n",
    "import numpy as np\n",
    "import tensorflow as tf\n",
    "from tensorflow.keras.models import Model\n",
    "from tensorflow.keras.layers import Input, Embedding, Bidirectional, LSTM, Concatenate, Dense, Dropout, BatchNormalization, Activation\n",
    "from tensorflow.keras.preprocessing.text import Tokenizer\n",
    "from tensorflow.keras.preprocessing.sequence import pad_sequences\n",
    "from tensorflow.keras.optimizers import Adam\n",
    "from sklearn.model_selection import train_test_split\n",
    "from sklearn.metrics import accuracy_score, classification_report\n",
    "import matplotlib.pyplot as plt"
   ]
  },
  {
   "cell_type": "code",
   "execution_count": 12,
   "metadata": {
    "execution": {
     "iopub.execute_input": "2025-04-21T20:05:08.032341Z",
     "iopub.status.busy": "2025-04-21T20:05:08.031843Z",
     "iopub.status.idle": "2025-04-21T20:05:08.036092Z",
     "shell.execute_reply": "2025-04-21T20:05:08.035359Z",
     "shell.execute_reply.started": "2025-04-21T20:05:08.032322Z"
    },
    "trusted": true
   },
   "outputs": [],
   "source": [
    "MAX_NUM_WORDS = 10000\n",
    "EMBEDDING_DIM = 100\n",
    "MAX_SEQ_LEN = 300\n",
    "DROPOUT = 0.5\n",
    "THRESHOLD = 0.05\n",
    "GLOVE_PATH = \"glove.6B.100d.txt\""
   ]
  },
  {
   "cell_type": "code",
   "execution_count": 4,
   "metadata": {
    "execution": {
     "iopub.execute_input": "2025-04-20T14:16:49.698605Z",
     "iopub.status.busy": "2025-04-20T14:16:49.698361Z",
     "iopub.status.idle": "2025-04-20T14:17:10.991261Z",
     "shell.execute_reply": "2025-04-20T14:17:10.990686Z",
     "shell.execute_reply.started": "2025-04-20T14:16:49.698584Z"
    },
    "trusted": true
   },
   "outputs": [
    {
     "name": "stdout",
     "output_type": "stream",
     "text": [
      "label\n",
      "1    615330\n",
      "0    405140\n",
      "Name: count, dtype: int64\n"
     ]
    },
    {
     "data": {
      "text/html": [
       "<div>\n",
       "<style scoped>\n",
       "    .dataframe tbody tr th:only-of-type {\n",
       "        vertical-align: middle;\n",
       "    }\n",
       "\n",
       "    .dataframe tbody tr th {\n",
       "        vertical-align: top;\n",
       "    }\n",
       "\n",
       "    .dataframe thead th {\n",
       "        text-align: right;\n",
       "    }\n",
       "</style>\n",
       "<table border=\"1\" class=\"dataframe\">\n",
       "  <thead>\n",
       "    <tr style=\"text-align: right;\">\n",
       "      <th></th>\n",
       "      <th>lyrics1</th>\n",
       "      <th>lyrics2</th>\n",
       "      <th>score</th>\n",
       "      <th>label</th>\n",
       "    </tr>\n",
       "  </thead>\n",
       "  <tbody>\n",
       "    <tr>\n",
       "      <th>0</th>\n",
       "      <td>i i i i i i the the the the the you you you to...</td>\n",
       "      <td>i i the the to to to and it it not in are are ...</td>\n",
       "      <td>1.000000</td>\n",
       "      <td>1</td>\n",
       "    </tr>\n",
       "    <tr>\n",
       "      <th>1</th>\n",
       "      <td>i i i i i i the the the the the you you you to...</td>\n",
       "      <td>i i i i i i i the the the you you you you you ...</td>\n",
       "      <td>0.671106</td>\n",
       "      <td>1</td>\n",
       "    </tr>\n",
       "    <tr>\n",
       "      <th>2</th>\n",
       "      <td>i i i i i i the the the the the you you you to...</td>\n",
       "      <td>i i i i i i i i i i the the the the the the th...</td>\n",
       "      <td>0.054148</td>\n",
       "      <td>1</td>\n",
       "    </tr>\n",
       "    <tr>\n",
       "      <th>3</th>\n",
       "      <td>i i i i i i the the the the the you you you to...</td>\n",
       "      <td>i i i i i i i i i i the the the the the the yo...</td>\n",
       "      <td>0.051151</td>\n",
       "      <td>1</td>\n",
       "    </tr>\n",
       "    <tr>\n",
       "      <th>4</th>\n",
       "      <td>i i i i i i the the the the the you you you to...</td>\n",
       "      <td>i i i i i i i i i i i i i i i i i i i you you ...</td>\n",
       "      <td>0.003043</td>\n",
       "      <td>0</td>\n",
       "    </tr>\n",
       "  </tbody>\n",
       "</table>\n",
       "</div>"
      ],
      "text/plain": [
       "                                             lyrics1  \\\n",
       "0  i i i i i i the the the the the you you you to...   \n",
       "1  i i i i i i the the the the the you you you to...   \n",
       "2  i i i i i i the the the the the you you you to...   \n",
       "3  i i i i i i the the the the the you you you to...   \n",
       "4  i i i i i i the the the the the you you you to...   \n",
       "\n",
       "                                             lyrics2     score  label  \n",
       "0  i i the the to to to and it it not in are are ...  1.000000      1  \n",
       "1  i i i i i i i the the the you you you you you ...  0.671106      1  \n",
       "2  i i i i i i i i i i the the the the the the th...  0.054148      1  \n",
       "3  i i i i i i i i i i the the the the the the yo...  0.051151      1  \n",
       "4  i i i i i i i i i i i i i i i i i i i you you ...  0.003043      0  "
      ]
     },
     "execution_count": 4,
     "metadata": {},
     "output_type": "execute_result"
    }
   ],
   "source": [
    "df = pd.read_csv(\"/ocean/projects/cis250019p/langevin/pairs (4).csv\") \n",
    "df = df.dropna()\n",
    "df = df[df['lyrics1'].str.len() > 0]\n",
    "df = df[df['lyrics2'].str.len() > 0]\n",
    "df = df[df['score'].between(0, 1)]\n",
    "\n",
    "# Convert score to binary label\n",
    "df['label'] = (df['score'] >= THRESHOLD).astype(int)\n",
    "\n",
    "print(df['label'].value_counts())  # class balance\n",
    "df.head()"
   ]
  },
  {
   "cell_type": "code",
   "execution_count": 5,
   "metadata": {
    "execution": {
     "iopub.execute_input": "2025-04-20T14:17:10.992633Z",
     "iopub.status.busy": "2025-04-20T14:17:10.992410Z",
     "iopub.status.idle": "2025-04-20T14:22:10.374923Z",
     "shell.execute_reply": "2025-04-20T14:22:10.374366Z",
     "shell.execute_reply.started": "2025-04-20T14:17:10.992615Z"
    },
    "trusted": true
   },
   "outputs": [],
   "source": [
    "all_lyrics = pd.concat([df['lyrics1'], df['lyrics2']])\n",
    "tokenizer = Tokenizer(num_words=MAX_NUM_WORDS, oov_token=\"<OOV>\")\n",
    "tokenizer.fit_on_texts(all_lyrics)\n",
    "\n",
    "seq1 = tokenizer.texts_to_sequences(df['lyrics1'])\n",
    "seq2 = tokenizer.texts_to_sequences(df['lyrics2'])\n",
    "\n",
    "x1 = pad_sequences(seq1, maxlen=MAX_SEQ_LEN)\n",
    "x2 = pad_sequences(seq2, maxlen=MAX_SEQ_LEN)\n",
    "y = df['label'].astype(np.float32).values\n",
    "\n",
    "word_index = tokenizer.word_index\n",
    "num_words = min(MAX_NUM_WORDS, len(word_index)) + 1"
   ]
  },
  {
   "cell_type": "code",
   "execution_count": 6,
   "metadata": {
    "execution": {
     "iopub.execute_input": "2025-04-20T14:22:10.375840Z",
     "iopub.status.busy": "2025-04-20T14:22:10.375597Z",
     "iopub.status.idle": "2025-04-20T14:22:19.683481Z",
     "shell.execute_reply": "2025-04-20T14:22:19.682904Z",
     "shell.execute_reply.started": "2025-04-20T14:22:10.375813Z"
    },
    "trusted": true
   },
   "outputs": [
    {
     "name": "stdout",
     "output_type": "stream",
     "text": [
      "Loading GloVe...\n",
      "GloVe loaded.\n",
      "Embedding matrix shape: (4999, 100)\n"
     ]
    }
   ],
   "source": [
    "print(\"Loading GloVe...\")\n",
    "embeddings_index = {}\n",
    "with open(GLOVE_PATH, encoding='utf-8') as f:\n",
    "    for line in f:\n",
    "        values = line.split()\n",
    "        word = values[0]\n",
    "        coefs = np.asarray(values[1:], dtype='float32')\n",
    "        embeddings_index[word] = coefs\n",
    "\n",
    "print(\"GloVe loaded.\")\n",
    "\n",
    "# Build embedding matrix\n",
    "embedding_matrix = np.zeros((num_words, EMBEDDING_DIM))\n",
    "for word, i in word_index.items():\n",
    "    if i >= num_words:\n",
    "        continue\n",
    "    embedding_vector = embeddings_index.get(word)\n",
    "    if embedding_vector is not None:\n",
    "        embedding_matrix[i] = embedding_vector\n",
    "\n",
    "print(f\"Embedding matrix shape: {embedding_matrix.shape}\")"
   ]
  },
  {
   "cell_type": "code",
   "execution_count": 7,
   "metadata": {
    "execution": {
     "iopub.execute_input": "2025-04-20T14:23:09.215696Z",
     "iopub.status.busy": "2025-04-20T14:23:09.215004Z",
     "iopub.status.idle": "2025-04-20T14:23:10.185696Z",
     "shell.execute_reply": "2025-04-20T14:23:10.185119Z",
     "shell.execute_reply.started": "2025-04-20T14:23:09.215658Z"
    },
    "trusted": true
   },
   "outputs": [],
   "source": [
    "x1_train, x1_val, x2_train, x2_val, y_train, y_val = train_test_split(\n",
    "    x1, x2, y, test_size=0.2, random_state=42)"
   ]
  },
  {
   "cell_type": "code",
   "execution_count": 8,
   "metadata": {
    "execution": {
     "iopub.execute_input": "2025-04-20T14:23:11.113086Z",
     "iopub.status.busy": "2025-04-20T14:23:11.112385Z",
     "iopub.status.idle": "2025-04-20T14:23:13.573263Z",
     "shell.execute_reply": "2025-04-20T14:23:13.572718Z",
     "shell.execute_reply.started": "2025-04-20T14:23:11.113054Z"
    },
    "trusted": true
   },
   "outputs": [
    {
     "name": "stderr",
     "output_type": "stream",
     "text": [
      "/usr/local/lib/python3.11/dist-packages/keras/src/layers/core/embedding.py:90: UserWarning: Argument `input_length` is deprecated. Just remove it.\n",
      "  warnings.warn(\n",
      "I0000 00:00:1745158992.259529      31 gpu_device.cc:2022] Created device /job:localhost/replica:0/task:0/device:GPU:0 with 13942 MB memory:  -> device: 0, name: Tesla T4, pci bus id: 0000:00:04.0, compute capability: 7.5\n",
      "I0000 00:00:1745158992.260237      31 gpu_device.cc:2022] Created device /job:localhost/replica:0/task:0/device:GPU:1 with 13942 MB memory:  -> device: 1, name: Tesla T4, pci bus id: 0000:00:05.0, compute capability: 7.5\n"
     ]
    },
    {
     "data": {
      "text/html": [
       "<pre style=\"white-space:pre;overflow-x:auto;line-height:normal;font-family:Menlo,'DejaVu Sans Mono',consolas,'Courier New',monospace\"><span style=\"font-weight: bold\">Model: \"functional\"</span>\n",
       "</pre>\n"
      ],
      "text/plain": [
       "\u001b[1mModel: \"functional\"\u001b[0m\n"
      ]
     },
     "metadata": {},
     "output_type": "display_data"
    },
    {
     "data": {
      "text/html": [
       "<pre style=\"white-space:pre;overflow-x:auto;line-height:normal;font-family:Menlo,'DejaVu Sans Mono',consolas,'Courier New',monospace\">┏━━━━━━━━━━━━━━━━━━━━━━━━━━━┳━━━━━━━━━━━━━━━━━━━━━━━━┳━━━━━━━━━━━━━━━━┳━━━━━━━━━━━━━━━━━━━━━━━━┓\n",
       "┃<span style=\"font-weight: bold\"> Layer (type)              </span>┃<span style=\"font-weight: bold\"> Output Shape           </span>┃<span style=\"font-weight: bold\">        Param # </span>┃<span style=\"font-weight: bold\"> Connected to           </span>┃\n",
       "┡━━━━━━━━━━━━━━━━━━━━━━━━━━━╇━━━━━━━━━━━━━━━━━━━━━━━━╇━━━━━━━━━━━━━━━━╇━━━━━━━━━━━━━━━━━━━━━━━━┩\n",
       "│ input_layer (<span style=\"color: #0087ff; text-decoration-color: #0087ff\">InputLayer</span>)  │ (<span style=\"color: #00d7ff; text-decoration-color: #00d7ff\">None</span>, <span style=\"color: #00af00; text-decoration-color: #00af00\">300</span>)            │              <span style=\"color: #00af00; text-decoration-color: #00af00\">0</span> │ -                      │\n",
       "├───────────────────────────┼────────────────────────┼────────────────┼────────────────────────┤\n",
       "│ input_layer_1             │ (<span style=\"color: #00d7ff; text-decoration-color: #00d7ff\">None</span>, <span style=\"color: #00af00; text-decoration-color: #00af00\">300</span>)            │              <span style=\"color: #00af00; text-decoration-color: #00af00\">0</span> │ -                      │\n",
       "│ (<span style=\"color: #0087ff; text-decoration-color: #0087ff\">InputLayer</span>)              │                        │                │                        │\n",
       "├───────────────────────────┼────────────────────────┼────────────────┼────────────────────────┤\n",
       "│ embedding (<span style=\"color: #0087ff; text-decoration-color: #0087ff\">Embedding</span>)     │ (<span style=\"color: #00d7ff; text-decoration-color: #00d7ff\">None</span>, <span style=\"color: #00af00; text-decoration-color: #00af00\">300</span>, <span style=\"color: #00af00; text-decoration-color: #00af00\">100</span>)       │        <span style=\"color: #00af00; text-decoration-color: #00af00\">499,900</span> │ input_layer[<span style=\"color: #00af00; text-decoration-color: #00af00\">0</span>][<span style=\"color: #00af00; text-decoration-color: #00af00\">0</span>],     │\n",
       "│                           │                        │                │ input_layer_1[<span style=\"color: #00af00; text-decoration-color: #00af00\">0</span>][<span style=\"color: #00af00; text-decoration-color: #00af00\">0</span>]    │\n",
       "├───────────────────────────┼────────────────────────┼────────────────┼────────────────────────┤\n",
       "│ bidirectional             │ (<span style=\"color: #00d7ff; text-decoration-color: #00d7ff\">None</span>, <span style=\"color: #00af00; text-decoration-color: #00af00\">128</span>)            │         <span style=\"color: #00af00; text-decoration-color: #00af00\">84,480</span> │ embedding[<span style=\"color: #00af00; text-decoration-color: #00af00\">0</span>][<span style=\"color: #00af00; text-decoration-color: #00af00\">0</span>]        │\n",
       "│ (<span style=\"color: #0087ff; text-decoration-color: #0087ff\">Bidirectional</span>)           │                        │                │                        │\n",
       "├───────────────────────────┼────────────────────────┼────────────────┼────────────────────────┤\n",
       "│ bidirectional_1           │ (<span style=\"color: #00d7ff; text-decoration-color: #00d7ff\">None</span>, <span style=\"color: #00af00; text-decoration-color: #00af00\">128</span>)            │         <span style=\"color: #00af00; text-decoration-color: #00af00\">84,480</span> │ embedding[<span style=\"color: #00af00; text-decoration-color: #00af00\">1</span>][<span style=\"color: #00af00; text-decoration-color: #00af00\">0</span>]        │\n",
       "│ (<span style=\"color: #0087ff; text-decoration-color: #0087ff\">Bidirectional</span>)           │                        │                │                        │\n",
       "├───────────────────────────┼────────────────────────┼────────────────┼────────────────────────┤\n",
       "│ concatenate (<span style=\"color: #0087ff; text-decoration-color: #0087ff\">Concatenate</span>) │ (<span style=\"color: #00d7ff; text-decoration-color: #00d7ff\">None</span>, <span style=\"color: #00af00; text-decoration-color: #00af00\">256</span>)            │              <span style=\"color: #00af00; text-decoration-color: #00af00\">0</span> │ bidirectional[<span style=\"color: #00af00; text-decoration-color: #00af00\">0</span>][<span style=\"color: #00af00; text-decoration-color: #00af00\">0</span>],   │\n",
       "│                           │                        │                │ bidirectional_1[<span style=\"color: #00af00; text-decoration-color: #00af00\">0</span>][<span style=\"color: #00af00; text-decoration-color: #00af00\">0</span>]  │\n",
       "├───────────────────────────┼────────────────────────┼────────────────┼────────────────────────┤\n",
       "│ dense (<span style=\"color: #0087ff; text-decoration-color: #0087ff\">Dense</span>)             │ (<span style=\"color: #00d7ff; text-decoration-color: #00d7ff\">None</span>, <span style=\"color: #00af00; text-decoration-color: #00af00\">128</span>)            │         <span style=\"color: #00af00; text-decoration-color: #00af00\">32,896</span> │ concatenate[<span style=\"color: #00af00; text-decoration-color: #00af00\">0</span>][<span style=\"color: #00af00; text-decoration-color: #00af00\">0</span>]      │\n",
       "├───────────────────────────┼────────────────────────┼────────────────┼────────────────────────┤\n",
       "│ batch_normalization       │ (<span style=\"color: #00d7ff; text-decoration-color: #00d7ff\">None</span>, <span style=\"color: #00af00; text-decoration-color: #00af00\">128</span>)            │            <span style=\"color: #00af00; text-decoration-color: #00af00\">512</span> │ dense[<span style=\"color: #00af00; text-decoration-color: #00af00\">0</span>][<span style=\"color: #00af00; text-decoration-color: #00af00\">0</span>]            │\n",
       "│ (<span style=\"color: #0087ff; text-decoration-color: #0087ff\">BatchNormalization</span>)      │                        │                │                        │\n",
       "├───────────────────────────┼────────────────────────┼────────────────┼────────────────────────┤\n",
       "│ activation (<span style=\"color: #0087ff; text-decoration-color: #0087ff\">Activation</span>)   │ (<span style=\"color: #00d7ff; text-decoration-color: #00d7ff\">None</span>, <span style=\"color: #00af00; text-decoration-color: #00af00\">128</span>)            │              <span style=\"color: #00af00; text-decoration-color: #00af00\">0</span> │ batch_normalization[<span style=\"color: #00af00; text-decoration-color: #00af00\">0</span>… │\n",
       "├───────────────────────────┼────────────────────────┼────────────────┼────────────────────────┤\n",
       "│ dropout (<span style=\"color: #0087ff; text-decoration-color: #0087ff\">Dropout</span>)         │ (<span style=\"color: #00d7ff; text-decoration-color: #00d7ff\">None</span>, <span style=\"color: #00af00; text-decoration-color: #00af00\">128</span>)            │              <span style=\"color: #00af00; text-decoration-color: #00af00\">0</span> │ activation[<span style=\"color: #00af00; text-decoration-color: #00af00\">0</span>][<span style=\"color: #00af00; text-decoration-color: #00af00\">0</span>]       │\n",
       "├───────────────────────────┼────────────────────────┼────────────────┼────────────────────────┤\n",
       "│ dense_1 (<span style=\"color: #0087ff; text-decoration-color: #0087ff\">Dense</span>)           │ (<span style=\"color: #00d7ff; text-decoration-color: #00d7ff\">None</span>, <span style=\"color: #00af00; text-decoration-color: #00af00\">64</span>)             │          <span style=\"color: #00af00; text-decoration-color: #00af00\">8,256</span> │ dropout[<span style=\"color: #00af00; text-decoration-color: #00af00\">0</span>][<span style=\"color: #00af00; text-decoration-color: #00af00\">0</span>]          │\n",
       "├───────────────────────────┼────────────────────────┼────────────────┼────────────────────────┤\n",
       "│ dense_2 (<span style=\"color: #0087ff; text-decoration-color: #0087ff\">Dense</span>)           │ (<span style=\"color: #00d7ff; text-decoration-color: #00d7ff\">None</span>, <span style=\"color: #00af00; text-decoration-color: #00af00\">1</span>)              │             <span style=\"color: #00af00; text-decoration-color: #00af00\">65</span> │ dense_1[<span style=\"color: #00af00; text-decoration-color: #00af00\">0</span>][<span style=\"color: #00af00; text-decoration-color: #00af00\">0</span>]          │\n",
       "└───────────────────────────┴────────────────────────┴────────────────┴────────────────────────┘\n",
       "</pre>\n"
      ],
      "text/plain": [
       "┏━━━━━━━━━━━━━━━━━━━━━━━━━━━┳━━━━━━━━━━━━━━━━━━━━━━━━┳━━━━━━━━━━━━━━━━┳━━━━━━━━━━━━━━━━━━━━━━━━┓\n",
       "┃\u001b[1m \u001b[0m\u001b[1mLayer (type)             \u001b[0m\u001b[1m \u001b[0m┃\u001b[1m \u001b[0m\u001b[1mOutput Shape          \u001b[0m\u001b[1m \u001b[0m┃\u001b[1m \u001b[0m\u001b[1m       Param #\u001b[0m\u001b[1m \u001b[0m┃\u001b[1m \u001b[0m\u001b[1mConnected to          \u001b[0m\u001b[1m \u001b[0m┃\n",
       "┡━━━━━━━━━━━━━━━━━━━━━━━━━━━╇━━━━━━━━━━━━━━━━━━━━━━━━╇━━━━━━━━━━━━━━━━╇━━━━━━━━━━━━━━━━━━━━━━━━┩\n",
       "│ input_layer (\u001b[38;5;33mInputLayer\u001b[0m)  │ (\u001b[38;5;45mNone\u001b[0m, \u001b[38;5;34m300\u001b[0m)            │              \u001b[38;5;34m0\u001b[0m │ -                      │\n",
       "├───────────────────────────┼────────────────────────┼────────────────┼────────────────────────┤\n",
       "│ input_layer_1             │ (\u001b[38;5;45mNone\u001b[0m, \u001b[38;5;34m300\u001b[0m)            │              \u001b[38;5;34m0\u001b[0m │ -                      │\n",
       "│ (\u001b[38;5;33mInputLayer\u001b[0m)              │                        │                │                        │\n",
       "├───────────────────────────┼────────────────────────┼────────────────┼────────────────────────┤\n",
       "│ embedding (\u001b[38;5;33mEmbedding\u001b[0m)     │ (\u001b[38;5;45mNone\u001b[0m, \u001b[38;5;34m300\u001b[0m, \u001b[38;5;34m100\u001b[0m)       │        \u001b[38;5;34m499,900\u001b[0m │ input_layer[\u001b[38;5;34m0\u001b[0m][\u001b[38;5;34m0\u001b[0m],     │\n",
       "│                           │                        │                │ input_layer_1[\u001b[38;5;34m0\u001b[0m][\u001b[38;5;34m0\u001b[0m]    │\n",
       "├───────────────────────────┼────────────────────────┼────────────────┼────────────────────────┤\n",
       "│ bidirectional             │ (\u001b[38;5;45mNone\u001b[0m, \u001b[38;5;34m128\u001b[0m)            │         \u001b[38;5;34m84,480\u001b[0m │ embedding[\u001b[38;5;34m0\u001b[0m][\u001b[38;5;34m0\u001b[0m]        │\n",
       "│ (\u001b[38;5;33mBidirectional\u001b[0m)           │                        │                │                        │\n",
       "├───────────────────────────┼────────────────────────┼────────────────┼────────────────────────┤\n",
       "│ bidirectional_1           │ (\u001b[38;5;45mNone\u001b[0m, \u001b[38;5;34m128\u001b[0m)            │         \u001b[38;5;34m84,480\u001b[0m │ embedding[\u001b[38;5;34m1\u001b[0m][\u001b[38;5;34m0\u001b[0m]        │\n",
       "│ (\u001b[38;5;33mBidirectional\u001b[0m)           │                        │                │                        │\n",
       "├───────────────────────────┼────────────────────────┼────────────────┼────────────────────────┤\n",
       "│ concatenate (\u001b[38;5;33mConcatenate\u001b[0m) │ (\u001b[38;5;45mNone\u001b[0m, \u001b[38;5;34m256\u001b[0m)            │              \u001b[38;5;34m0\u001b[0m │ bidirectional[\u001b[38;5;34m0\u001b[0m][\u001b[38;5;34m0\u001b[0m],   │\n",
       "│                           │                        │                │ bidirectional_1[\u001b[38;5;34m0\u001b[0m][\u001b[38;5;34m0\u001b[0m]  │\n",
       "├───────────────────────────┼────────────────────────┼────────────────┼────────────────────────┤\n",
       "│ dense (\u001b[38;5;33mDense\u001b[0m)             │ (\u001b[38;5;45mNone\u001b[0m, \u001b[38;5;34m128\u001b[0m)            │         \u001b[38;5;34m32,896\u001b[0m │ concatenate[\u001b[38;5;34m0\u001b[0m][\u001b[38;5;34m0\u001b[0m]      │\n",
       "├───────────────────────────┼────────────────────────┼────────────────┼────────────────────────┤\n",
       "│ batch_normalization       │ (\u001b[38;5;45mNone\u001b[0m, \u001b[38;5;34m128\u001b[0m)            │            \u001b[38;5;34m512\u001b[0m │ dense[\u001b[38;5;34m0\u001b[0m][\u001b[38;5;34m0\u001b[0m]            │\n",
       "│ (\u001b[38;5;33mBatchNormalization\u001b[0m)      │                        │                │                        │\n",
       "├───────────────────────────┼────────────────────────┼────────────────┼────────────────────────┤\n",
       "│ activation (\u001b[38;5;33mActivation\u001b[0m)   │ (\u001b[38;5;45mNone\u001b[0m, \u001b[38;5;34m128\u001b[0m)            │              \u001b[38;5;34m0\u001b[0m │ batch_normalization[\u001b[38;5;34m0\u001b[0m… │\n",
       "├───────────────────────────┼────────────────────────┼────────────────┼────────────────────────┤\n",
       "│ dropout (\u001b[38;5;33mDropout\u001b[0m)         │ (\u001b[38;5;45mNone\u001b[0m, \u001b[38;5;34m128\u001b[0m)            │              \u001b[38;5;34m0\u001b[0m │ activation[\u001b[38;5;34m0\u001b[0m][\u001b[38;5;34m0\u001b[0m]       │\n",
       "├───────────────────────────┼────────────────────────┼────────────────┼────────────────────────┤\n",
       "│ dense_1 (\u001b[38;5;33mDense\u001b[0m)           │ (\u001b[38;5;45mNone\u001b[0m, \u001b[38;5;34m64\u001b[0m)             │          \u001b[38;5;34m8,256\u001b[0m │ dropout[\u001b[38;5;34m0\u001b[0m][\u001b[38;5;34m0\u001b[0m]          │\n",
       "├───────────────────────────┼────────────────────────┼────────────────┼────────────────────────┤\n",
       "│ dense_2 (\u001b[38;5;33mDense\u001b[0m)           │ (\u001b[38;5;45mNone\u001b[0m, \u001b[38;5;34m1\u001b[0m)              │             \u001b[38;5;34m65\u001b[0m │ dense_1[\u001b[38;5;34m0\u001b[0m][\u001b[38;5;34m0\u001b[0m]          │\n",
       "└───────────────────────────┴────────────────────────┴────────────────┴────────────────────────┘\n"
      ]
     },
     "metadata": {},
     "output_type": "display_data"
    },
    {
     "data": {
      "text/html": [
       "<pre style=\"white-space:pre;overflow-x:auto;line-height:normal;font-family:Menlo,'DejaVu Sans Mono',consolas,'Courier New',monospace\"><span style=\"font-weight: bold\"> Total params: </span><span style=\"color: #00af00; text-decoration-color: #00af00\">710,589</span> (2.71 MB)\n",
       "</pre>\n"
      ],
      "text/plain": [
       "\u001b[1m Total params: \u001b[0m\u001b[38;5;34m710,589\u001b[0m (2.71 MB)\n"
      ]
     },
     "metadata": {},
     "output_type": "display_data"
    },
    {
     "data": {
      "text/html": [
       "<pre style=\"white-space:pre;overflow-x:auto;line-height:normal;font-family:Menlo,'DejaVu Sans Mono',consolas,'Courier New',monospace\"><span style=\"font-weight: bold\"> Trainable params: </span><span style=\"color: #00af00; text-decoration-color: #00af00\">710,333</span> (2.71 MB)\n",
       "</pre>\n"
      ],
      "text/plain": [
       "\u001b[1m Trainable params: \u001b[0m\u001b[38;5;34m710,333\u001b[0m (2.71 MB)\n"
      ]
     },
     "metadata": {},
     "output_type": "display_data"
    },
    {
     "data": {
      "text/html": [
       "<pre style=\"white-space:pre;overflow-x:auto;line-height:normal;font-family:Menlo,'DejaVu Sans Mono',consolas,'Courier New',monospace\"><span style=\"font-weight: bold\"> Non-trainable params: </span><span style=\"color: #00af00; text-decoration-color: #00af00\">256</span> (1.00 KB)\n",
       "</pre>\n"
      ],
      "text/plain": [
       "\u001b[1m Non-trainable params: \u001b[0m\u001b[38;5;34m256\u001b[0m (1.00 KB)\n"
      ]
     },
     "metadata": {},
     "output_type": "display_data"
    }
   ],
   "source": [
    "input1 = Input(shape=(MAX_SEQ_LEN,))\n",
    "input2 = Input(shape=(MAX_SEQ_LEN,))\n",
    "\n",
    "embedding = Embedding(input_dim=4999,\n",
    "                      output_dim=100,\n",
    "                      weights=[embedding_matrix],\n",
    "                      input_length=MAX_SEQ_LEN,\n",
    "                      trainable=True)\n",
    "\n",
    "x1_embed = embedding(input1)\n",
    "x2_embed = embedding(input2)\n",
    "\n",
    "x1_lstm = Bidirectional(LSTM(64))(x1_embed)\n",
    "x2_lstm = Bidirectional(LSTM(64))(x2_embed)\n",
    "\n",
    "merged = Concatenate()([x1_lstm, x2_lstm])\n",
    "merged = Dense(128)(merged)\n",
    "merged = BatchNormalization()(merged)\n",
    "merged = Activation(\"relu\")(merged)\n",
    "merged = Dropout(DROPOUT)(merged)\n",
    "\n",
    "merged = Dense(64, activation=\"relu\")(merged)\n",
    "output = Dense(1, activation=\"sigmoid\")(merged)\n",
    "\n",
    "model = Model(inputs=[input1, input2], outputs=output)\n",
    "model.compile(loss=\"binary_crossentropy\", optimizer=Adam(0.001), metrics=[\"accuracy\"])\n",
    "\n",
    "model.summary()"
   ]
  },
  {
   "cell_type": "code",
   "execution_count": 12,
   "metadata": {
    "execution": {
     "iopub.execute_input": "2025-04-20T14:24:24.169948Z",
     "iopub.status.busy": "2025-04-20T14:24:24.169337Z",
     "iopub.status.idle": "2025-04-20T14:24:27.251410Z",
     "shell.execute_reply": "2025-04-20T14:24:27.250842Z",
     "shell.execute_reply.started": "2025-04-20T14:24:24.169924Z"
    },
    "trusted": true
   },
   "outputs": [
    {
     "data": {
      "text/plain": [
       "2326"
      ]
     },
     "execution_count": 12,
     "metadata": {},
     "output_type": "execute_result"
    }
   ],
   "source": [
    "import gc\n",
    "gc.collect()"
   ]
  },
  {
   "cell_type": "code",
   "execution_count": 13,
   "metadata": {
    "execution": {
     "iopub.execute_input": "2025-04-20T14:24:29.289942Z",
     "iopub.status.busy": "2025-04-20T14:24:29.289403Z",
     "iopub.status.idle": "2025-04-20T16:03:02.975106Z",
     "shell.execute_reply": "2025-04-20T16:03:02.974091Z",
     "shell.execute_reply.started": "2025-04-20T14:24:29.289920Z"
    },
    "trusted": true
   },
   "outputs": [
    {
     "name": "stdout",
     "output_type": "stream",
     "text": [
      "Epoch 1/20\n",
      "\u001b[1m3189/3189\u001b[0m \u001b[32m━━━━━━━━━━━━━━━━━━━━\u001b[0m\u001b[37m\u001b[0m \u001b[1m293s\u001b[0m 92ms/step - accuracy: 0.6364 - loss: 0.6365 - val_accuracy: 0.7248 - val_loss: 0.5435\n",
      "Epoch 2/20\n",
      "\u001b[1m3189/3189\u001b[0m \u001b[32m━━━━━━━━━━━━━━━━━━━━\u001b[0m\u001b[37m\u001b[0m \u001b[1m295s\u001b[0m 92ms/step - accuracy: 0.7439 - loss: 0.5172 - val_accuracy: 0.7612 - val_loss: 0.4925\n",
      "Epoch 3/20\n",
      "\u001b[1m3189/3189\u001b[0m \u001b[32m━━━━━━━━━━━━━━━━━━━━\u001b[0m\u001b[37m\u001b[0m \u001b[1m295s\u001b[0m 93ms/step - accuracy: 0.7780 - loss: 0.4669 - val_accuracy: 0.7771 - val_loss: 0.4698\n",
      "Epoch 4/20\n",
      "\u001b[1m3189/3189\u001b[0m \u001b[32m━━━━━━━━━━━━━━━━━━━━\u001b[0m\u001b[37m\u001b[0m \u001b[1m295s\u001b[0m 93ms/step - accuracy: 0.8003 - loss: 0.4316 - val_accuracy: 0.7849 - val_loss: 0.4569\n",
      "Epoch 5/20\n",
      "\u001b[1m3189/3189\u001b[0m \u001b[32m━━━━━━━━━━━━━━━━━━━━\u001b[0m\u001b[37m\u001b[0m \u001b[1m295s\u001b[0m 93ms/step - accuracy: 0.8131 - loss: 0.4107 - val_accuracy: 0.7908 - val_loss: 0.4473\n",
      "Epoch 6/20\n",
      "\u001b[1m3189/3189\u001b[0m \u001b[32m━━━━━━━━━━━━━━━━━━━━\u001b[0m\u001b[37m\u001b[0m \u001b[1m296s\u001b[0m 93ms/step - accuracy: 0.8233 - loss: 0.3934 - val_accuracy: 0.7962 - val_loss: 0.4406\n",
      "Epoch 7/20\n",
      "\u001b[1m3189/3189\u001b[0m \u001b[32m━━━━━━━━━━━━━━━━━━━━\u001b[0m\u001b[37m\u001b[0m \u001b[1m296s\u001b[0m 93ms/step - accuracy: 0.8302 - loss: 0.3809 - val_accuracy: 0.7983 - val_loss: 0.4365\n",
      "Epoch 8/20\n",
      "\u001b[1m3189/3189\u001b[0m \u001b[32m━━━━━━━━━━━━━━━━━━━━\u001b[0m\u001b[37m\u001b[0m \u001b[1m296s\u001b[0m 93ms/step - accuracy: 0.8369 - loss: 0.3685 - val_accuracy: 0.7993 - val_loss: 0.4342\n",
      "Epoch 9/20\n",
      "\u001b[1m3189/3189\u001b[0m \u001b[32m━━━━━━━━━━━━━━━━━━━━\u001b[0m\u001b[37m\u001b[0m \u001b[1m296s\u001b[0m 93ms/step - accuracy: 0.8400 - loss: 0.3614 - val_accuracy: 0.8012 - val_loss: 0.4315\n",
      "Epoch 10/20\n",
      "\u001b[1m3189/3189\u001b[0m \u001b[32m━━━━━━━━━━━━━━━━━━━━\u001b[0m\u001b[37m\u001b[0m \u001b[1m295s\u001b[0m 93ms/step - accuracy: 0.8450 - loss: 0.3521 - val_accuracy: 0.8023 - val_loss: 0.4314\n",
      "Epoch 11/20\n",
      "\u001b[1m3189/3189\u001b[0m \u001b[32m━━━━━━━━━━━━━━━━━━━━\u001b[0m\u001b[37m\u001b[0m \u001b[1m296s\u001b[0m 93ms/step - accuracy: 0.8489 - loss: 0.3437 - val_accuracy: 0.8029 - val_loss: 0.4285\n",
      "Epoch 12/20\n",
      "\u001b[1m3189/3189\u001b[0m \u001b[32m━━━━━━━━━━━━━━━━━━━━\u001b[0m\u001b[37m\u001b[0m \u001b[1m296s\u001b[0m 93ms/step - accuracy: 0.8517 - loss: 0.3381 - val_accuracy: 0.8039 - val_loss: 0.4288\n",
      "Epoch 13/20\n",
      "\u001b[1m3189/3189\u001b[0m \u001b[32m━━━━━━━━━━━━━━━━━━━━\u001b[0m\u001b[37m\u001b[0m \u001b[1m296s\u001b[0m 93ms/step - accuracy: 0.8541 - loss: 0.3315 - val_accuracy: 0.8044 - val_loss: 0.4277\n",
      "Epoch 14/20\n",
      "\u001b[1m3189/3189\u001b[0m \u001b[32m━━━━━━━━━━━━━━━━━━━━\u001b[0m\u001b[37m\u001b[0m \u001b[1m296s\u001b[0m 93ms/step - accuracy: 0.8570 - loss: 0.3250 - val_accuracy: 0.8041 - val_loss: 0.4284\n",
      "Epoch 15/20\n",
      "\u001b[1m3189/3189\u001b[0m \u001b[32m━━━━━━━━━━━━━━━━━━━━\u001b[0m\u001b[37m\u001b[0m \u001b[1m296s\u001b[0m 93ms/step - accuracy: 0.8593 - loss: 0.3189 - val_accuracy: 0.8049 - val_loss: 0.4277\n",
      "Epoch 16/20\n",
      "\u001b[1m3189/3189\u001b[0m \u001b[32m━━━━━━━━━━━━━━━━━━━━\u001b[0m\u001b[37m\u001b[0m \u001b[1m295s\u001b[0m 93ms/step - accuracy: 0.8616 - loss: 0.3150 - val_accuracy: 0.8048 - val_loss: 0.4307\n",
      "Epoch 17/20\n",
      "\u001b[1m3189/3189\u001b[0m \u001b[32m━━━━━━━━━━━━━━━━━━━━\u001b[0m\u001b[37m\u001b[0m \u001b[1m295s\u001b[0m 93ms/step - accuracy: 0.8639 - loss: 0.3086 - val_accuracy: 0.8051 - val_loss: 0.4289\n",
      "Epoch 18/20\n",
      "\u001b[1m3189/3189\u001b[0m \u001b[32m━━━━━━━━━━━━━━━━━━━━\u001b[0m\u001b[37m\u001b[0m \u001b[1m295s\u001b[0m 93ms/step - accuracy: 0.8666 - loss: 0.3033 - val_accuracy: 0.8045 - val_loss: 0.4340\n",
      "Epoch 19/20\n",
      "\u001b[1m3189/3189\u001b[0m \u001b[32m━━━━━━━━━━━━━━━━━━━━\u001b[0m\u001b[37m\u001b[0m \u001b[1m296s\u001b[0m 93ms/step - accuracy: 0.8683 - loss: 0.2988 - val_accuracy: 0.8052 - val_loss: 0.4316\n",
      "Epoch 20/20\n",
      "\u001b[1m3189/3189\u001b[0m \u001b[32m━━━━━━━━━━━━━━━━━━━━\u001b[0m\u001b[37m\u001b[0m \u001b[1m296s\u001b[0m 93ms/step - accuracy: 0.8701 - loss: 0.2953 - val_accuracy: 0.8053 - val_loss: 0.4302\n"
     ]
    }
   ],
   "source": [
    "history = model.fit(\n",
    "    [x1_train, x2_train], y_train,\n",
    "    validation_data=([x1_val, x2_val], y_val),\n",
    "    batch_size=256,\n",
    "    epochs=20\n",
    ")"
   ]
  },
  {
   "cell_type": "code",
   "execution_count": 14,
   "metadata": {
    "execution": {
     "iopub.execute_input": "2025-04-20T16:03:02.977085Z",
     "iopub.status.busy": "2025-04-20T16:03:02.976839Z",
     "iopub.status.idle": "2025-04-20T16:04:40.482925Z",
     "shell.execute_reply": "2025-04-20T16:04:40.482358Z",
     "shell.execute_reply.started": "2025-04-20T16:03:02.977069Z"
    },
    "trusted": true
   },
   "outputs": [
    {
     "name": "stdout",
     "output_type": "stream",
     "text": [
      "\u001b[1m6378/6378\u001b[0m \u001b[32m━━━━━━━━━━━━━━━━━━━━\u001b[0m\u001b[37m\u001b[0m \u001b[1m93s\u001b[0m 15ms/step\n",
      "Accuracy: 0.8053004987897734\n",
      "\n",
      "Classification Report:\n",
      "               precision    recall  f1-score   support\n",
      "\n",
      "         0.0       0.78      0.71      0.74     80745\n",
      "         1.0       0.82      0.87      0.84    123349\n",
      "\n",
      "    accuracy                           0.81    204094\n",
      "   macro avg       0.80      0.79      0.79    204094\n",
      "weighted avg       0.80      0.81      0.80    204094\n",
      "\n"
     ]
    }
   ],
   "source": [
    "val_preds = model.predict([x1_val, x2_val])\n",
    "val_preds_labels = (val_preds.flatten() >= 0.5).astype(int)\n",
    "\n",
    "print(\"Accuracy:\", accuracy_score(y_val, val_preds_labels))\n",
    "print(\"\\nClassification Report:\\n\", classification_report(y_val, val_preds_labels))"
   ]
  },
  {
   "cell_type": "code",
   "execution_count": 15,
   "metadata": {
    "execution": {
     "iopub.execute_input": "2025-04-20T16:04:40.484164Z",
     "iopub.status.busy": "2025-04-20T16:04:40.483858Z",
     "iopub.status.idle": "2025-04-20T16:04:40.707729Z",
     "shell.execute_reply": "2025-04-20T16:04:40.707059Z",
     "shell.execute_reply.started": "2025-04-20T16:04:40.484147Z"
    },
    "trusted": true
   },
   "outputs": [
    {
     "data": {
      "image/png": "[encoded data removed]",
      "text/plain": [
       "<Figure size 640x480 with 1 Axes>"
      ]
     },
     "metadata": {},
     "output_type": "display_data"
    }
   ],
   "source": [
    "plt.plot(history.history['loss'], label='Train Loss')\n",
    "plt.plot(history.history['val_loss'], label='Val Loss')\n",
    "plt.title('Training History')\n",
    "plt.xlabel('Epoch')\n",
    "plt.ylabel('Binary Crossentropy')\n",
    "plt.legend()\n",
    "plt.show()"
   ]
  },
  {
   "cell_type": "markdown",
   "metadata": {},
   "source": [
    "# Regression Model"
   ]
  },
  {
   "cell_type": "code",
   "execution_count": 1,
   "metadata": {
    "execution": {
     "iopub.execute_input": "2025-04-21T22:45:29.611118Z",
     "iopub.status.busy": "2025-04-21T22:45:29.610591Z",
     "iopub.status.idle": "2025-04-21T22:45:43.693564Z",
     "shell.execute_reply": "2025-04-21T22:45:43.692786Z",
     "shell.execute_reply.started": "2025-04-21T22:45:29.611088Z"
    },
    "trusted": true
   },
   "outputs": [
    {
     "name": "stderr",
     "output_type": "stream",
     "text": [
      "2025-04-22 20:45:27.648617: I tensorflow/core/platform/cpu_feature_guard.cc:193] This TensorFlow binary is optimized with oneAPI Deep Neural Network Library (oneDNN) to use the following CPU instructions in performance-critical operations:  SSE4.1 SSE4.2 AVX AVX2 AVX512F AVX512_VNNI FMA\n",
      "To enable them in other operations, rebuild TensorFlow with the appropriate compiler flags.\n",
      "2025-04-22 20:45:28.918885: I tensorflow/core/util/util.cc:169] oneDNN custom operations are on. You may see slightly different numerical results due to floating-point round-off errors from different computation orders. To turn them off, set the environment variable `TF_ENABLE_ONEDNN_OPTS=0`.\n"
     ]
    }
   ],
   "source": [
    "import numpy as np\n",
    "import pandas as pd\n",
    "from sklearn.model_selection import train_test_split\n",
    "from sklearn.metrics import mean_squared_error, mean_absolute_error\n",
    "from tensorflow.keras.models import Model\n",
    "from tensorflow.keras.layers import Input, Embedding, Bidirectional, LSTM, Concatenate, Dense, Dropout, BatchNormalization, ReLU\n",
    "from tensorflow.keras.optimizers import Adam\n",
    "from tensorflow.keras.preprocessing.sequence import pad_sequences\n",
    "from tensorflow.keras.utils import Sequence\n",
    "from tensorflow.keras.preprocessing.text import Tokenizer"
   ]
  },
  {
   "cell_type": "code",
   "execution_count": 2,
   "metadata": {
    "execution": {
     "iopub.execute_input": "2025-04-21T22:50:39.578368Z",
     "iopub.status.busy": "2025-04-21T22:50:39.577528Z",
     "iopub.status.idle": "2025-04-21T22:50:39.582019Z",
     "shell.execute_reply": "2025-04-21T22:50:39.581220Z",
     "shell.execute_reply.started": "2025-04-21T22:50:39.578344Z"
    },
    "trusted": true
   },
   "outputs": [],
   "source": [
    "# Config\n",
    "MAX_NUM_WORDS = 20000\n",
    "EMBEDDING_DIM = 100\n",
    "MAX_SEQ_LEN = 300\n",
    "DROPOUT = 0.3\n",
    "GLOVE_PATH = \"glove.6B.100d.txt\""
   ]
  },
  {
   "cell_type": "code",
   "execution_count": 3,
   "metadata": {
    "execution": {
     "iopub.execute_input": "2025-04-21T22:50:40.971878Z",
     "iopub.status.busy": "2025-04-21T22:50:40.971203Z",
     "iopub.status.idle": "2025-04-21T22:51:02.745217Z",
     "shell.execute_reply": "2025-04-21T22:51:02.744425Z",
     "shell.execute_reply.started": "2025-04-21T22:50:40.971852Z"
    },
    "trusted": true
   },
   "outputs": [
    {
     "name": "stdout",
     "output_type": "stream",
     "text": [
      "<class 'pandas.core.frame.DataFrame'>\n",
      "RangeIndex: 1020471 entries, 0 to 1020470\n",
      "Data columns (total 3 columns):\n",
      " #   Column   Non-Null Count    Dtype  \n",
      "---  ------   --------------    -----  \n",
      " 0   lyrics1  1020471 non-null  object \n",
      " 1   lyrics2  1020471 non-null  object \n",
      " 2   score    1020471 non-null  float64\n",
      "dtypes: float64(1), object(2)\n",
      "memory usage: 23.4+ MB\n",
      "None\n",
      "                                             lyrics1  \\\n",
      "0  i i i i i i the the the the the you you you to...   \n",
      "1  i i i i i i the the the the the you you you to...   \n",
      "2  i i i i i i the the the the the you you you to...   \n",
      "3  i i i i i i the the the the the you you you to...   \n",
      "4  i i i i i i the the the the the you you you to...   \n",
      "\n",
      "                                             lyrics2     score  \n",
      "0  i i the the to to to and it it not in are are ...  1.000000  \n",
      "1  i i i i i i i the the the you you you you you ...  0.671106  \n",
      "2  i i i i i i i i i i the the the the the the th...  0.054148  \n",
      "3  i i i i i i i i i i the the the the the the yo...  0.051151  \n",
      "4  i i i i i i i i i i i i i i i i i i i you you ...  0.003043  \n"
     ]
    }
   ],
   "source": [
    "df = pd.read_csv(\"/ocean/projects/cis250019p/langevin/pairs (4).csv\")\n",
    "print(df.info())\n",
    "df.columns = ['lyrics1', 'lyrics2', 'score']\n",
    "print(df.head())\n",
    "df = df.dropna()\n",
    "df = df[df['lyrics1'].str.len() > 0]\n",
    "df = df[df['lyrics2'].str.len() > 0]\n",
    "df = df[df['score'].between(0, 1)]"
   ]
  },
  {
   "cell_type": "code",
   "execution_count": 4,
   "metadata": {
    "execution": {
     "iopub.execute_input": "2025-04-21T22:51:02.746749Z",
     "iopub.status.busy": "2025-04-21T22:51:02.746521Z",
     "iopub.status.idle": "2025-04-21T22:56:10.699770Z",
     "shell.execute_reply": "2025-04-21T22:56:10.699190Z",
     "shell.execute_reply.started": "2025-04-21T22:51:02.746733Z"
    },
    "trusted": true
   },
   "outputs": [],
   "source": [
    "all_lyrics = pd.concat([df['lyrics1'], df['lyrics2']])\n",
    "tokenizer = Tokenizer(num_words=MAX_NUM_WORDS, oov_token=\"<OOV>\")\n",
    "tokenizer.fit_on_texts(all_lyrics)\n",
    "\n",
    "seq1 = tokenizer.texts_to_sequences(df['lyrics1'])\n",
    "seq2 = tokenizer.texts_to_sequences(df['lyrics2'])\n",
    "\n",
    "x1 = pad_sequences(seq1, maxlen=MAX_SEQ_LEN)\n",
    "x2 = pad_sequences(seq2, maxlen=MAX_SEQ_LEN)\n",
    "y = df['score'].astype(np.float32).values\n",
    "\n",
    "word_index = tokenizer.word_index\n",
    "num_words = min(MAX_NUM_WORDS, len(word_index)) + 1"
   ]
  },
  {
   "cell_type": "code",
   "execution_count": 5,
   "metadata": {
    "execution": {
     "iopub.execute_input": "2025-04-21T22:56:10.700620Z",
     "iopub.status.busy": "2025-04-21T22:56:10.700409Z",
     "iopub.status.idle": "2025-04-21T22:56:20.173114Z",
     "shell.execute_reply": "2025-04-21T22:56:20.172456Z",
     "shell.execute_reply.started": "2025-04-21T22:56:10.700604Z"
    },
    "trusted": true
   },
   "outputs": [
    {
     "name": "stdout",
     "output_type": "stream",
     "text": [
      "Embedding matrix shape: (4999, 100)\n"
     ]
    }
   ],
   "source": [
    "embeddings_index = {}\n",
    "with open(GLOVE_PATH, encoding='utf-8') as f:\n",
    "    for line in f:\n",
    "        values = line.split()\n",
    "        word = values[0]\n",
    "        coefs = np.asarray(values[1:], dtype='float32')\n",
    "        embeddings_index[word] = coefs\n",
    "\n",
    "# Build embedding matrix\n",
    "embedding_matrix = np.zeros((num_words, EMBEDDING_DIM))\n",
    "for word, i in word_index.items():\n",
    "    if i >= num_words:\n",
    "        continue\n",
    "    embedding_vector = embeddings_index.get(word)\n",
    "    if embedding_vector is not None:\n",
    "        embedding_matrix[i] = embedding_vector\n",
    "\n",
    "print(f\"Embedding matrix shape: {embedding_matrix.shape}\")"
   ]
  },
  {
   "cell_type": "code",
   "execution_count": 6,
   "metadata": {
    "execution": {
     "iopub.execute_input": "2025-04-21T22:56:20.174599Z",
     "iopub.status.busy": "2025-04-21T22:56:20.174357Z",
     "iopub.status.idle": "2025-04-21T22:56:21.965914Z",
     "shell.execute_reply": "2025-04-21T22:56:21.965150Z",
     "shell.execute_reply.started": "2025-04-21T22:56:20.174582Z"
    },
    "trusted": true
   },
   "outputs": [],
   "source": [
    "x1_trainval, x1_test, x2_trainval, x2_test, y_trainval, y_test = train_test_split(\n",
    "    x1, x2, y, test_size=0.2, random_state=42\n",
    ")\n",
    "\n",
    "# Step 2: Split the train+val set into train and validation sets (80% train, 20% validation)\n",
    "x1_train, x1_val, x2_train, x2_val, y_train, y_val = train_test_split(\n",
    "    x1_trainval, x2_trainval, y_trainval, test_size=0.2, random_state=42\n",
    ")"
   ]
  },
  {
   "cell_type": "code",
   "execution_count": 7,
   "metadata": {
    "execution": {
     "iopub.execute_input": "2025-04-21T22:56:21.966887Z",
     "iopub.status.busy": "2025-04-21T22:56:21.966620Z",
     "iopub.status.idle": "2025-04-21T22:56:21.990854Z",
     "shell.execute_reply": "2025-04-21T22:56:21.990276Z",
     "shell.execute_reply.started": "2025-04-21T22:56:21.966855Z"
    },
    "trusted": true
   },
   "outputs": [],
   "source": [
    "class LyricsDataGenerator(Sequence):\n",
    "    def __init__(self, x1, x2, y, batch_size=256, shuffle=True):\n",
    "        self.x1 = x1\n",
    "        self.x2 = x2\n",
    "        self.y = y\n",
    "        self.batch_size = batch_size\n",
    "        self.shuffle = shuffle\n",
    "        self.indices = np.arange(len(self.y))\n",
    "        self.on_epoch_end()\n",
    "\n",
    "    def __len__(self):\n",
    "        return int(np.ceil(len(self.y) / self.batch_size))\n",
    "\n",
    "    def __getitem__(self, idx):\n",
    "        inds = self.indices[idx * self.batch_size:(idx + 1) * self.batch_size]\n",
    "        return (self.x1[inds], self.x2[inds]), self.y[inds]\n",
    "\n",
    "    def on_epoch_end(self):\n",
    "        if self.shuffle:\n",
    "            np.random.shuffle(self.indices)\n",
    "\n",
    "train_generator = LyricsDataGenerator(x1_train, x2_train, y_train)\n",
    "val_generator = LyricsDataGenerator(x1_val, x2_val, y_val, shuffle=False)\n",
    "test_generator = LyricsDataGenerator(x1_test, x2_test, y_test, shuffle=False)"
   ]
  },
  {
   "cell_type": "code",
   "execution_count": 8,
   "metadata": {
    "execution": {
     "iopub.execute_input": "2025-04-21T22:58:17.923118Z",
     "iopub.status.busy": "2025-04-21T22:58:17.922844Z",
     "iopub.status.idle": "2025-04-21T22:58:18.182855Z",
     "shell.execute_reply": "2025-04-21T22:58:18.182307Z",
     "shell.execute_reply.started": "2025-04-21T22:58:17.923098Z"
    },
    "trusted": true
   },
   "outputs": [
    {
     "name": "stderr",
     "output_type": "stream",
     "text": [
      "2025-04-22 20:51:41.479827: I tensorflow/core/platform/cpu_feature_guard.cc:193] This TensorFlow binary is optimized with oneAPI Deep Neural Network Library (oneDNN) to use the following CPU instructions in performance-critical operations:  SSE4.1 SSE4.2 AVX AVX2 AVX512F AVX512_VNNI FMA\n",
      "To enable them in other operations, rebuild TensorFlow with the appropriate compiler flags.\n",
      "2025-04-22 20:51:41.657842: I tensorflow/core/common_runtime/gpu/gpu_device.cc:1616] Created device /job:localhost/replica:0/task:0/device:GPU:0 with 31134 MB memory:  -> device: 0, name: Tesla V100-SXM2-32GB, pci bus id: 0000:3b:00.0, compute capability: 7.0\n"
     ]
    }
   ],
   "source": [
    "from tensorflow.keras.regularizers import l2\n",
    "from tensorflow.keras.losses import CosineSimilarity\n",
    "from tensorflow.keras.layers import Subtract, Multiply\n",
    "\n",
    "def build_model(embedding_matrix):\n",
    "    vocab_size, embedding_dim = embedding_matrix.shape\n",
    "\n",
    "    embedding_layer = Embedding(\n",
    "        input_dim=vocab_size,\n",
    "        output_dim=embedding_dim,\n",
    "        weights=[embedding_matrix.astype(np.float32)],\n",
    "        trainable=True\n",
    "    )\n",
    "\n",
    "    def encoded_branch(input_seq):\n",
    "        x = embedding_layer(input_seq)\n",
    "        x = Bidirectional(LSTM(256, return_sequences=True))(x)\n",
    "        x = Bidirectional(LSTM(128, return_sequences=False))(x)\n",
    "        return x\n",
    "\n",
    "    input1 = Input(shape=(x1.shape[1],))\n",
    "    input2 = Input(shape=(x2.shape[1],))\n",
    "    encoded1 = encoded_branch(input1)\n",
    "    encoded2 = encoded_branch(input2)\n",
    "\n",
    "    diff = Subtract()([encoded1, encoded2])\n",
    "    prod = Multiply()([encoded1, encoded2])\n",
    "    merged = Concatenate()([encoded1, encoded2, diff, prod])\n",
    "    x = Dense(128, kernel_regularizer=l2(1e-4))(merged)\n",
    "    x = BatchNormalization()(x)\n",
    "    x = ReLU()(x)\n",
    "    x = Dropout(0.3)(x)\n",
    "    x = Dense(64, activation='relu', kernel_regularizer=l2(1e-4))(x)\n",
    "    output = Dense(1)(x)\n",
    "\n",
    "    model = Model(inputs=[input1, input2], outputs=output)\n",
    "    return model\n",
    "\n",
    "model = build_model(embedding_matrix)\n",
    "model.compile(optimizer=Adam(0.001), loss='mse', metrics=['mae'])"
   ]
  },
  {
   "cell_type": "code",
   "execution_count": 9,
   "metadata": {
    "execution": {
     "iopub.execute_input": "2025-04-21T22:58:21.291467Z",
     "iopub.status.busy": "2025-04-21T22:58:21.290908Z",
     "iopub.status.idle": "2025-04-21T22:58:24.207669Z",
     "shell.execute_reply": "2025-04-21T22:58:24.207028Z",
     "shell.execute_reply.started": "2025-04-21T22:58:21.291445Z"
    },
    "trusted": true
   },
   "outputs": [
    {
     "data": {
      "text/plain": [
       "26135"
      ]
     },
     "execution_count": 9,
     "metadata": {},
     "output_type": "execute_result"
    }
   ],
   "source": [
    "import gc \n",
    "gc.collect()"
   ]
  },
  {
   "cell_type": "code",
   "execution_count": 10,
   "metadata": {
    "execution": {
     "execution_failed": "2025-04-22T01:23:37.517Z",
     "iopub.execute_input": "2025-04-21T22:58:25.604866Z",
     "iopub.status.busy": "2025-04-21T22:58:25.604347Z"
    },
    "trusted": true
   },
   "outputs": [
    {
     "name": "stdout",
     "output_type": "stream",
     "text": [
      "Epoch 1/10\n"
     ]
    },
    {
     "name": "stderr",
     "output_type": "stream",
     "text": [
      "2025-04-22 20:51:57.333369: I tensorflow/stream_executor/cuda/cuda_dnn.cc:384] Loaded cuDNN version 8401\n"
     ]
    },
    {
     "name": "stdout",
     "output_type": "stream",
     "text": [
      "2552/2552 [==============================] - ETA: 0s - loss: 0.0572 - mae: 0.1035\n",
      "Epoch 1: val_mae improved from inf to 0.07623, saving model to best_model.keras\n",
      "2552/2552 [==============================] - 753s 292ms/step - loss: 0.0572 - mae: 0.1035 - val_loss: 0.0370 - val_mae: 0.0762\n",
      "Epoch 2/10\n",
      "2552/2552 [==============================] - ETA: 0s - loss: 0.0331 - mae: 0.0846\n",
      "Epoch 2: val_mae did not improve from 0.07623\n",
      "2552/2552 [==============================] - 743s 291ms/step - loss: 0.0331 - mae: 0.0846 - val_loss: 0.0293 - val_mae: 0.0900\n",
      "Epoch 3/10\n",
      "2552/2552 [==============================] - ETA: 0s - loss: 0.0270 - mae: 0.0779\n",
      "Epoch 3: val_mae improved from 0.07623 to 0.07427, saving model to best_model.keras\n",
      "2552/2552 [==============================] - 743s 291ms/step - loss: 0.0270 - mae: 0.0779 - val_loss: 0.0251 - val_mae: 0.0743\n",
      "Epoch 4/10\n",
      "2552/2552 [==============================] - ETA: 0s - loss: 0.0252 - mae: 0.0753\n",
      "Epoch 4: val_mae did not improve from 0.07427\n",
      "2552/2552 [==============================] - 743s 291ms/step - loss: 0.0252 - mae: 0.0753 - val_loss: 0.0243 - val_mae: 0.0747\n",
      "Epoch 5/10\n",
      "2552/2552 [==============================] - ETA: 0s - loss: 0.0248 - mae: 0.0743\n",
      "Epoch 5: val_mae did not improve from 0.07427\n",
      "2552/2552 [==============================] - 743s 291ms/step - loss: 0.0248 - mae: 0.0743 - val_loss: 0.0245 - val_mae: 0.0789\n",
      "Epoch 6/10\n",
      "2552/2552 [==============================] - ETA: 0s - loss: 0.0245 - mae: 0.0735\n",
      "Epoch 6: val_mae did not improve from 0.07427\n",
      "2552/2552 [==============================] - 744s 291ms/step - loss: 0.0245 - mae: 0.0735 - val_loss: 0.0284 - val_mae: 0.1119\n",
      "Epoch 7/10\n",
      "2552/2552 [==============================] - ETA: 0s - loss: 0.0240 - mae: 0.0720\n",
      "Epoch 7: val_mae improved from 0.07427 to 0.06713, saving model to best_model.keras\n",
      "2552/2552 [==============================] - 744s 292ms/step - loss: 0.0240 - mae: 0.0720 - val_loss: 0.0239 - val_mae: 0.0671\n",
      "Epoch 8/10\n",
      "2552/2552 [==============================] - ETA: 0s - loss: 0.0234 - mae: 0.0702\n",
      "Epoch 8: val_mae improved from 0.06713 to 0.06701, saving model to best_model.keras\n",
      "2552/2552 [==============================] - 745s 292ms/step - loss: 0.0234 - mae: 0.0702 - val_loss: 0.0232 - val_mae: 0.0670\n",
      "Epoch 9/10\n",
      "2552/2552 [==============================] - ETA: 0s - loss: 0.0231 - mae: 0.0694\n",
      "Epoch 9: val_mae did not improve from 0.06701\n",
      "2552/2552 [==============================] - 744s 292ms/step - loss: 0.0231 - mae: 0.0694 - val_loss: 0.0233 - val_mae: 0.0716\n",
      "Epoch 10/10\n",
      "2552/2552 [==============================] - ETA: 0s - loss: 0.0227 - mae: 0.0687\n",
      "Epoch 10: val_mae did not improve from 0.06701\n",
      "2552/2552 [==============================] - 745s 292ms/step - loss: 0.0227 - mae: 0.0687 - val_loss: 0.0232 - val_mae: 0.0701\n"
     ]
    }
   ],
   "source": [
    "from tensorflow.keras.callbacks import ModelCheckpoint\n",
    "\n",
    "checkpoint_path = \"best_model.keras\"\n",
    "checkpoint = ModelCheckpoint(\n",
    "    checkpoint_path,\n",
    "    monitor='val_mae',       # or 'val_mae' if you're tracking that\n",
    "    save_best_only=True,\n",
    "    save_weights_only=False,  # saves full model (structure + weights)\n",
    "    mode='min',\n",
    "    verbose=1\n",
    ")\n",
    "\n",
    "history = model.fit(\n",
    "    train_generator,\n",
    "    validation_data=val_generator,\n",
    "    epochs=10,\n",
    "    callbacks=[\n",
    "        checkpoint,\n",
    "    ]\n",
    ")"
   ]
  },
  {
   "cell_type": "code",
   "execution_count": 11,
   "metadata": {
    "execution": {
     "iopub.execute_input": "2025-04-21T04:47:51.196565Z",
     "iopub.status.busy": "2025-04-21T04:47:51.196351Z",
     "iopub.status.idle": "2025-04-21T04:47:51.774069Z",
     "shell.execute_reply": "2025-04-21T04:47:51.773515Z",
     "shell.execute_reply.started": "2025-04-21T04:47:51.196549Z"
    },
    "trusted": true
   },
   "outputs": [],
   "source": [
    "from tensorflow.keras.models import load_model\n",
    "\n",
    "best_model = load_model(\"best_model.keras\")"
   ]
  },
  {
   "cell_type": "code",
   "execution_count": 13,
   "metadata": {
    "execution": {
     "iopub.execute_input": "2025-04-21T04:47:51.774910Z",
     "iopub.status.busy": "2025-04-21T04:47:51.774696Z",
     "iopub.status.idle": "2025-04-21T04:50:53.574055Z",
     "shell.execute_reply": "2025-04-21T04:50:53.573270Z",
     "shell.execute_reply.started": "2025-04-21T04:47:51.774894Z"
    },
    "trusted": true
   },
   "outputs": [
    {
     "name": "stdout",
     "output_type": "stream",
     "text": [
      "798/798 [==============================] - 82s 103ms/step\n",
      "MAE on test data: 0.0678\n",
      "RMSE on test data: 0.0238\n"
     ]
    }
   ],
   "source": [
    "from sklearn.metrics import precision_recall_curve, auc\n",
    "\n",
    "preds = best_model.predict(test_generator).flatten()\n",
    "\n",
    "mae = mean_absolute_error(y_test, preds)\n",
    "rmse = mean_squared_error(y_test, preds)\n",
    "\n",
    "print(f\"MAE on test data: {mae:.4f}\")\n",
    "print(f\"RMSE on test data: {rmse:.4f}\")"
   ]
  },
  {
   "cell_type": "code",
   "execution_count": 16,
   "metadata": {
    "execution": {
     "iopub.execute_input": "2025-04-21T04:50:53.575842Z",
     "iopub.status.busy": "2025-04-21T04:50:53.575546Z",
     "iopub.status.idle": "2025-04-21T04:50:53.840056Z",
     "shell.execute_reply": "2025-04-21T04:50:53.839281Z",
     "shell.execute_reply.started": "2025-04-21T04:50:53.575817Z"
    },
    "trusted": true
   },
   "outputs": [
    {
     "data": {
      "image/png": "[encoded data removed]",
      "text/plain": [
       "<Figure size 640x480 with 1 Axes>"
      ]
     },
     "metadata": {},
     "output_type": "display_data"
    }
   ],
   "source": [
    "import matplotlib.pyplot as plt\n",
    "\n",
    "plt.plot(history.history['loss'], label='Train Loss')\n",
    "plt.plot(history.history['val_loss'], label='Val Loss')\n",
    "plt.xlabel('Epoch')\n",
    "plt.ylabel('MSE')\n",
    "plt.title('Training History')\n",
    "plt.legend()\n",
    "plt.show()"
   ]
  },
  {
   "cell_type": "markdown",
   "metadata": {},
   "source": []
  }
 ],
 "metadata": {
  "kaggle": {
   "accelerator": "nvidiaTeslaT4",
   "dataSources": [
    {
     "datasetId": 412163,
     "sourceId": 788987,
     "sourceType": "datasetVersion"
    },
    {
     "datasetId": 715814,
     "sourceId": 1246668,
     "sourceType": "datasetVersion"
    },
    {
     "datasetId": 3166258,
     "sourceId": 5485048,
     "sourceType": "datasetVersion"
    },
    {
     "datasetId": 7034628,
     "sourceId": 11256164,
     "sourceType": "datasetVersion"
    }
   ],
   "isGpuEnabled": true,
   "isInternetEnabled": true,
   "language": "python",
   "sourceType": "notebook"
  },
  "kernelspec": {
   "display_name": "Python 3 (ipykernel)",
   "language": "python",
   "name": "python3"
  },
  "language_info": {
   "codemirror_mode": {
    "name": "ipython",
    "version": 3
   },
   "file_extension": ".py",
   "mimetype": "text/x-python",
   "name": "python",
   "nbconvert_exporter": "python",
   "pygments_lexer": "ipython3",
   "version": "3.10.13"
  }
 },
 "nbformat": 4,
 "nbformat_minor": 4
}

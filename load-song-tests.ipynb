{
 "cells": [
  {
   "cell_type": "code",
   "execution_count": 1,
   "metadata": {
    "execution": {
     "iopub.execute_input": "2025-04-30T20:21:34.942214Z",
     "iopub.status.busy": "2025-04-30T20:21:34.941824Z",
     "iopub.status.idle": "2025-04-30T20:21:35.310391Z",
     "shell.execute_reply": "2025-04-30T20:21:35.309098Z",
     "shell.execute_reply.started": "2025-04-30T20:21:34.942186Z"
    },
    "trusted": true
   },
   "outputs": [
    {
     "name": "stdout",
     "output_type": "stream",
     "text": [
      "/kaggle/working\n",
      "'/kaggle/input/million-song-dataset-spotify-lastfm/Music Info.csv'\n",
      "cp: cannot create regular file '/kaggle/input/million-song-dataset-spotify-lastfm/music_info.csv': Read-only file system\n"
     ]
    }
   ],
   "source": [
    "!pwd\n",
    "!ls /kaggle/input/million-song-dataset-spotify-lastfm/'Music Info.csv'\n",
    "!cp /kaggle/input/million-song-dataset-spotify-lastfm/'Music Info.csv' /kaggle/input/million-song-dataset-spotify-lastfm/music_info.csv"
   ]
  },
  {
   "cell_type": "code",
   "execution_count": 2,
   "metadata": {
    "execution": {
     "iopub.execute_input": "2025-04-30T20:21:35.312405Z",
     "iopub.status.busy": "2025-04-30T20:21:35.311998Z",
     "iopub.status.idle": "2025-04-30T20:21:44.055137Z",
     "shell.execute_reply": "2025-04-30T20:21:44.053964Z",
     "shell.execute_reply.started": "2025-04-30T20:21:35.312363Z"
    },
    "trusted": true
   },
   "outputs": [
    {
     "name": "stdout",
     "output_type": "stream",
     "text": [
      "\u001b[2K   \u001b[90m━━━━━━━━━━━━━━━━━━━━━━━━━━━━━━━━━━━━━━━━\u001b[0m \u001b[32m83.6/83.6 kB\u001b[0m \u001b[31m2.8 MB/s\u001b[0m eta \u001b[36m0:00:00\u001b[0m\n",
      "\u001b[2K   \u001b[90m━━━━━━━━━━━━━━━━━━━━━━━━━━━━━━━━━━━━━━━━\u001b[0m \u001b[32m113.4/113.4 kB\u001b[0m \u001b[31m4.9 MB/s\u001b[0m eta \u001b[36m0:00:00\u001b[0m\n",
      "\u001b[2K   \u001b[90m━━━━━━━━━━━━━━━━━━━━━━━━━━━━━━━━━━━━━━━━\u001b[0m \u001b[32m268.9/268.9 kB\u001b[0m \u001b[31m10.7 MB/s\u001b[0m eta \u001b[36m0:00:00\u001b[0m\n",
      "\u001b[?25h"
     ]
    }
   ],
   "source": [
    "!pip install -q audiomentations tables pydub spotipy"
   ]
  },
  {
   "cell_type": "code",
   "execution_count": 3,
   "metadata": {
    "execution": {
     "iopub.execute_input": "2025-04-30T20:21:44.057961Z",
     "iopub.status.busy": "2025-04-30T20:21:44.057629Z",
     "iopub.status.idle": "2025-04-30T20:21:45.823753Z",
     "shell.execute_reply": "2025-04-30T20:21:45.822919Z",
     "shell.execute_reply.started": "2025-04-30T20:21:44.057927Z"
    },
    "trusted": true
   },
   "outputs": [],
   "source": [
    "import numpy as np\n",
    "import pandas as pd\n",
    "import requests\n",
    "import io\n",
    "from IPython.display import Audio, display\n",
    "import librosa\n",
    "import librosa.display\n",
    "import matplotlib.pyplot as plt\n",
    "import os\n",
    "import re\n",
    "import json\n",
    "import pickle as pkl\n",
    "import base64\n",
    "import time\n",
    "import urllib.parse\n",
    "from tqdm import tqdm\n",
    "import sqlite3\n",
    "import spotipy\n",
    "from sklearn.model_selection import train_test_split\n",
    "from spotipy.oauth2 import SpotifyClientCredentials\n",
    "from requests.exceptions import ReadTimeout\n",
    "from tqdm import tqdm\n",
    "import sys\n",
    "from tenacity import retry, wait_exponential, stop_after_attempt, RetryError, retry_if_exception_type\n",
    "import soundfile as sf\n",
    "from audiomentations import Compose, AddGaussianNoise, TimeStretch, PitchShift, Shift, AddGaussianSNR, ClippingDistortion, Gain\n",
    "from pydub import AudioSegment\n",
    "import random"
   ]
  },
  {
   "cell_type": "code",
   "execution_count": 4,
   "metadata": {
    "execution": {
     "iopub.execute_input": "2025-04-30T20:21:45.829594Z",
     "iopub.status.busy": "2025-04-30T20:21:45.828517Z",
     "iopub.status.idle": "2025-04-30T20:21:46.564344Z",
     "shell.execute_reply": "2025-04-30T20:21:46.563271Z",
     "shell.execute_reply.started": "2025-04-30T20:21:45.829563Z"
    },
    "trusted": true
   },
   "outputs": [
    {
     "name": "stdout",
     "output_type": "stream",
     "text": [
      "50683\n"
     ]
    }
   ],
   "source": [
    "# Get dataframe from kaggle dataset\n",
    "music_info_df = pd.read_csv('/kaggle/input/million-song-dataset-spotify-lastfm/Music Info.csv')\n",
    "music_info_df.head(10)\n",
    "print(len(music_info_df))"
   ]
  },
  {
   "cell_type": "code",
   "execution_count": 5,
   "metadata": {
    "execution": {
     "iopub.execute_input": "2025-04-30T20:21:46.565814Z",
     "iopub.status.busy": "2025-04-30T20:21:46.565466Z",
     "iopub.status.idle": "2025-04-30T20:21:46.572727Z",
     "shell.execute_reply": "2025-04-30T20:21:46.571881Z",
     "shell.execute_reply.started": "2025-04-30T20:21:46.565783Z"
    },
    "trusted": true
   },
   "outputs": [
    {
     "name": "stdout",
     "output_type": "stream",
     "text": [
      "track_id                                              TRIOREW128F424EAF0\n",
      "name                                                      Mr. Brightside\n",
      "artist                                                       The Killers\n",
      "spotify_preview_url    https://p.scdn.co/mp3-preview/4d26180e6961fd46...\n",
      "spotify_id                                        09ZQ5TmUG8TSL56n0knqrj\n",
      "tags                   rock, alternative, indie, alternative_rock, in...\n",
      "genre                                                                NaN\n",
      "year                                                                2004\n",
      "duration_ms                                                       222200\n",
      "danceability                                                       0.355\n",
      "energy                                                             0.918\n",
      "key                                                                    1\n",
      "loudness                                                           -4.36\n",
      "mode                                                                   1\n",
      "speechiness                                                       0.0746\n",
      "acousticness                                                     0.00119\n",
      "instrumentalness                                                     0.0\n",
      "liveness                                                          0.0971\n",
      "valence                                                             0.24\n",
      "tempo                                                            148.114\n",
      "time_signature                                                         4\n",
      "Name: 0, dtype: object\n"
     ]
    }
   ],
   "source": [
    "print(music_info_df.iloc[0,:])"
   ]
  },
  {
   "cell_type": "code",
   "execution_count": 6,
   "metadata": {
    "execution": {
     "iopub.execute_input": "2025-04-30T20:21:46.574086Z",
     "iopub.status.busy": "2025-04-30T20:21:46.573745Z",
     "iopub.status.idle": "2025-04-30T20:21:46.593068Z",
     "shell.execute_reply": "2025-04-30T20:21:46.592231Z",
     "shell.execute_reply.started": "2025-04-30T20:21:46.574058Z"
    },
    "trusted": true
   },
   "outputs": [],
   "source": [
    "# Function to get spotify audio from row of DF\n",
    "def get_raw_audio(row, which=3):\n",
    "    try:\n",
    "        url = row[which]\n",
    "        response = requests.get(url)\n",
    "        audio_data = io.BytesIO(response.content)\n",
    "        return audio_data\n",
    "    except requests.RequestException as e:\n",
    "        print(f\"Error downloading {url}: {e}\")\n",
    "\n",
    "# Play the audio in jupyter\n",
    "def play_audio(row):\n",
    "    display(Audio(get_raw_audio(row).read(), autoplay=True))\n",
    "\n",
    "def get_audio_data(row, which=3):\n",
    "    y, sr = librosa.load(get_raw_audio(row, which))\n",
    "    return y, sr\n",
    "\n",
    "# Function to get the mel spectrogram for each song in each row of a dataframe\n",
    "def get_spectrogram(row, which):\n",
    "    audio_data = get_raw_audio(row, which)\n",
    "    y, sr = librosa.load(audio_data, sr=None)\n",
    "    S = librosa.feature.melspectrogram(y=y, sr=sr, n_mels=128)\n",
    "    S_DB = librosa.power_to_db(S, ref=np.max)\n",
    "    return pkl.dumps((S_DB, sr))        \n",
    "\n",
    "# Function to get chromagram. Return serialized data and sampling rate\n",
    "def get_chromagram(row, which):\n",
    "    audio_data = get_raw_audio(row, which)\n",
    "    y, sr = librosa.load(audio_data)\n",
    "    chroma = librosa.feature.chroma_stft(y=y, sr=sr)\n",
    "    return pkl.dumps((chroma, sr))"
   ]
  },
  {
   "cell_type": "code",
   "execution_count": 7,
   "metadata": {
    "execution": {
     "iopub.execute_input": "2025-04-30T20:21:46.594240Z",
     "iopub.status.busy": "2025-04-30T20:21:46.593931Z",
     "iopub.status.idle": "2025-04-30T20:21:46.616749Z",
     "shell.execute_reply": "2025-04-30T20:21:46.615832Z",
     "shell.execute_reply.started": "2025-04-30T20:21:46.594212Z"
    },
    "trusted": true
   },
   "outputs": [],
   "source": [
    "# play_audio(music_info_df.iloc[0,:])"
   ]
  },
  {
   "cell_type": "code",
   "execution_count": 8,
   "metadata": {
    "execution": {
     "iopub.execute_input": "2025-04-30T20:21:46.619765Z",
     "iopub.status.busy": "2025-04-30T20:21:46.619465Z",
     "iopub.status.idle": "2025-04-30T20:21:46.635148Z",
     "shell.execute_reply": "2025-04-30T20:21:46.634094Z",
     "shell.execute_reply.started": "2025-04-30T20:21:46.619732Z"
    },
    "trusted": true
   },
   "outputs": [],
   "source": [
    "# len(music_info_df)"
   ]
  },
  {
   "cell_type": "code",
   "execution_count": 9,
   "metadata": {
    "execution": {
     "iopub.execute_input": "2025-04-30T20:21:46.636613Z",
     "iopub.status.busy": "2025-04-30T20:21:46.636265Z",
     "iopub.status.idle": "2025-04-30T20:21:46.756855Z",
     "shell.execute_reply": "2025-04-30T20:21:46.754826Z",
     "shell.execute_reply.started": "2025-04-30T20:21:46.636575Z"
    },
    "trusted": true
   },
   "outputs": [],
   "source": [
    "from tenacity import retry, stop_after_attempt, wait_exponential, retry_if_exception_type\n",
    "from pydub import AudioSegment\n",
    "\n",
    "# Define exceptions to handle with retry\n",
    "class RateLimitError(Exception):\n",
    "    def __init__(self, message, retry_after=None):\n",
    "        super().__init__(message)\n",
    "        self.retry_after = retry_after\n",
    "\n",
    "# Function to clip audio to 10s (10000 ms by default)\n",
    "def clip_audio(audio_data, segment_length = 10000, sr=22050):\n",
    "    audio = AudioSegment.from_file(audio_data)\n",
    "\n",
    "    if len(audio) < segment_length:\n",
    "        raise ValueError(\"Audio is shorter than the segment length.\")\n",
    "\n",
    "    # Randomly generate start point at least 10s from the end of the song.\n",
    "    start = np.random.randint(0, len(audio) - segment_length)\n",
    "    audio_segment = audio[start:start + segment_length]\n",
    "\n",
    "    # Return clip in format importable to Librosa\n",
    "    audio_segment_io = io.BytesIO()\n",
    "    audio_segment.export(audio_segment_io, format=\"wav\")\n",
    "    audio_segment_io.seek(0)\n",
    "    return audio_segment_io # Export (with pointer at start of audio)\n",
    "\n",
    "# Function to download and process a single audio file\n",
    "@retry(stop=stop_after_attempt(10), wait=wait_exponential(multiplier=1, min=4, max=60), retry=retry_if_exception_type(RateLimitError))\n",
    "def download_and_process_audio(url, sr=22050):\n",
    "    try:\n",
    "        response = requests.get(url)\n",
    "    except requests.exceptions.RequestException as e:\n",
    "        print(f\"Error downloading {url}: {e}\")\n",
    "        return None   \n",
    "     \n",
    "    if response.status_code == 429:\n",
    "        retry_after = response.headers.get('Retry-After', 'Not provided')\n",
    "        print(f\"Rate limit exceeded. Retry-After: {retry_after} seconds\")\n",
    "        raise RateLimitError(\"Rate limit exceeded\", retry_after)\n",
    "        \n",
    "    response.raise_for_status()  # Check if the request was successful\n",
    "    # get audio data from url\n",
    "    audio_data = io.BytesIO(response.content)\n",
    "    # feed into audio clipping function\n",
    "    audio_data_clip = clip_audio(audio_data)\n",
    "\n",
    "\n",
    "    y, sr = librosa.load(audio_data_clip, sr=sr)\n",
    "    #mel_spectrogram = librosa.feature.melspectrogram(y=audio, sr=sr)\n",
    "    #mel_spectrogram_db = librosa.power_to_db(mel_spectrogram, ref=np.max)\n",
    "    #time.sleep(0.5)\n",
    "    return y, sr\n",
    "    #return mel_spectrogram_db\n",
    "\n",
    "\n",
    "# Function to apply download_and_process_audio to each row\n",
    "def process_row(row, sr=22050):\n",
    "    url = row['spotify_preview_url']\n",
    "    if url:\n",
    "        return download_and_process_audio(url, sr)\n",
    "    return None\n",
    "\n",
    "# Function to download and process all audio files in the DataFrame\n",
    "def download_and_process_all_audio(df, url_column, output_dir, batch_size=00, start_batch=0, sr=22050):\n",
    "    os.makedirs(output_dir, exist_ok=True)\n",
    "    # Dataframe to add audio too\n",
    "    df['processed_audio'] = None\n",
    "\n",
    "    num_batches = (len(df) // batch_size)\n",
    "    for batch_num in range(start_batch, num_batches):\n",
    "        batch_file_path = os.path.join(output_dir, f\"batch_{batch_num + 1}.pkl\")\n",
    "\n",
    "        # Check if the batch has already been processed\n",
    "        if os.path.exists(batch_file_path):\n",
    "            print(f\"Batch {batch_num + 1} already processed. Skipping...\")\n",
    "            continue\n",
    "\n",
    "        start_idx = batch_num * batch_size\n",
    "        end_idx = min((batch_num + 1) * batch_size, len(df))\n",
    "        batch_df = df.iloc[start_idx:end_idx]\n",
    "\n",
    "        # Pass each row to other functions with progress bar. Output to pickle\n",
    "        tqdm.pandas(desc=f\"Processing batch {batch_num + 1}/{num_batches}\")\n",
    "        batch_df['processed_audio'] = batch_df.progress_apply(lambda row: process_row(row, sr), axis=1).copy()\n",
    "        batch_df.to_pickle(batch_file_path)\n",
    "\n",
    "        # Combine progressively each batch with overall df. Pickle.\n",
    "        #df.iloc[start_idx:end_idx] = batch_df\n",
    "        #df.to_pickle(os.path.join(output_dir, \"full_dataframe.pkl\"))\n",
    "        time.sleep(10)\n",
    "\n",
    "\n",
    "def combine_batches(pickle_dir, output_file=None):\n",
    "    dataframes = []\n",
    "\n",
    "    # Go through all pickle files taht start with batch\n",
    "    for filename in sorted(os.listdir(pickle_dir)):\n",
    "        if filename.startswith('batch_') and filename.endswith('.pkl'):\n",
    "            file_path = os.path.join(pickle_dir, filename)\n",
    "            # Load the DataFrame and append to the list\n",
    "            df = pd.read_pickle(file_path)\n",
    "            dataframes.append(df)\n",
    "\n",
    "    # Concatenate all DataFrames into a single DataFrame\n",
    "    combined_df = pd.concat(dataframes, ignore_index=True)\n",
    "\n",
    "    # Save the combined DataFrame to a new pickle file (optional)\n",
    "    if output_file:\n",
    "        combined_df.to_pickle(output_file)\n",
    "\n",
    "    return combined_df"
   ]
  },
  {
   "cell_type": "code",
   "execution_count": 10,
   "metadata": {
    "execution": {
     "iopub.execute_input": "2025-04-30T20:21:46.758308Z",
     "iopub.status.busy": "2025-04-30T20:21:46.757950Z",
     "iopub.status.idle": "2025-04-30T20:21:46.779427Z",
     "shell.execute_reply": "2025-04-30T20:21:46.777676Z",
     "shell.execute_reply.started": "2025-04-30T20:21:46.758284Z"
    },
    "trusted": true
   },
   "outputs": [],
   "source": [
    "def process_and_store_waveforms(df, url_column='spotify_preview_url', sr=22050):\n",
    "    waveforms = []\n",
    "\n",
    "    for idx, row in tqdm(df.iterrows(), total=len(df), desc=\"Processing audio\"):\n",
    "        url = row[url_column]\n",
    "        if pd.notnull(url):\n",
    "            try:\n",
    "                response = requests.get(url)\n",
    "                if response.status_code == 429:\n",
    "                    print(f\"Rate limit at row {idx}. Skipping...\")\n",
    "                    waveforms.append(None)\n",
    "                    continue\n",
    "\n",
    "                response.raise_for_status()\n",
    "                audio_data = io.BytesIO(response.content)\n",
    "                audio_data_clip = clip_audio(audio_data)\n",
    "                y, _ = librosa.load(audio_data_clip, sr=sr)\n",
    "                waveforms.append(y)\n",
    "            except Exception as e:\n",
    "                print(f\"Error at row {idx}: {e}\")\n",
    "                waveforms.append(None)\n",
    "        else:\n",
    "            waveforms.append(None)\n",
    "\n",
    "    df['waveform'] = waveforms\n",
    "    return df"
   ]
  },
  {
   "cell_type": "code",
   "execution_count": 11,
   "metadata": {
    "execution": {
     "iopub.execute_input": "2025-04-30T20:21:46.780925Z",
     "iopub.status.busy": "2025-04-30T20:21:46.780558Z",
     "iopub.status.idle": "2025-04-30T20:21:46.907072Z",
     "shell.execute_reply": "2025-04-30T20:21:46.905994Z",
     "shell.execute_reply.started": "2025-04-30T20:21:46.780873Z"
    },
    "trusted": true
   },
   "outputs": [
    {
     "data": {
      "text/plain": [
       "0"
      ]
     },
     "execution_count": 11,
     "metadata": {},
     "output_type": "execute_result"
    }
   ],
   "source": [
    "import gc\n",
    "gc.collect()"
   ]
  },
  {
   "cell_type": "code",
   "execution_count": null,
   "metadata": {
    "execution": {
     "iopub.execute_input": "2025-04-30T20:21:46.908586Z",
     "iopub.status.busy": "2025-04-30T20:21:46.908202Z",
     "iopub.status.idle": "2025-04-30T20:22:04.863601Z",
     "shell.execute_reply": "2025-04-30T20:22:04.861273Z",
     "shell.execute_reply.started": "2025-04-30T20:21:46.908547Z"
    },
    "trusted": true
   },
   "outputs": [
    {
     "name": "stderr",
     "output_type": "stream",
     "text": [
      "Processing audio: 100%|██████████| 5/5 [00:17<00:00,  3.58s/it]\n"
     ]
    }
   ],
   "source": [
    "# df = music_info_df.iloc[10000:20000, :].copy()\n",
    "df = music_info_df.iloc[0:5, :].copy()\n",
    "\n",
    "# Specify the output directory for downloaded files\n",
    "output_dir = \"/kaggle/working/download/\"\n",
    "os.makedirs(output_dir, exist_ok=True)\n",
    "df = process_and_store_waveforms(df)\n",
    "\n",
    "# Download and process all audio files and update the DataFrame with the processed data\n",
    "# download_and_process_all_audio(df, 'spotify_preview_url', output_dir, batch_size=1000)"
   ]
  },
  {
   "cell_type": "code",
   "execution_count": 13,
   "metadata": {
    "execution": {
     "iopub.execute_input": "2025-04-30T20:22:04.865062Z",
     "iopub.status.busy": "2025-04-30T20:22:04.864650Z",
     "iopub.status.idle": "2025-04-30T20:22:04.871620Z",
     "shell.execute_reply": "2025-04-30T20:22:04.870396Z",
     "shell.execute_reply.started": "2025-04-30T20:22:04.865027Z"
    },
    "trusted": true
   },
   "outputs": [],
   "source": [
    "#df = combine_batches('/Users/reggiebain/erdos/song-similarity-erdos-old/data/audio_download', \n",
    "#                     '/Users/reggiebain/erdos/song-similarity-erdos-old/data/audio_download/all_batches_df.pkl')"
   ]
  },
  {
   "cell_type": "code",
   "execution_count": 14,
   "metadata": {
    "execution": {
     "iopub.execute_input": "2025-04-30T20:22:04.873660Z",
     "iopub.status.busy": "2025-04-30T20:22:04.873283Z",
     "iopub.status.idle": "2025-04-30T20:22:04.905013Z",
     "shell.execute_reply": "2025-04-30T20:22:04.903686Z",
     "shell.execute_reply.started": "2025-04-30T20:22:04.873604Z"
    },
    "trusted": true
   },
   "outputs": [],
   "source": [
    "# print(df['waveform'].head(5))\n",
    "# print(len(df['waveform'][0]))\n",
    "# print(len(df['waveform'][2]))\n",
    "# print(len(df['waveform'][789]))"
   ]
  },
  {
   "cell_type": "code",
   "execution_count": 15,
   "metadata": {
    "execution": {
     "iopub.execute_input": "2025-04-30T20:22:04.906933Z",
     "iopub.status.busy": "2025-04-30T20:22:04.906523Z",
     "iopub.status.idle": "2025-04-30T20:22:04.994651Z",
     "shell.execute_reply": "2025-04-30T20:22:04.992728Z",
     "shell.execute_reply.started": "2025-04-30T20:22:04.906866Z"
    },
    "trusted": true
   },
   "outputs": [
    {
     "data": {
      "text/html": [
       "<div>\n",
       "<style scoped>\n",
       "    .dataframe tbody tr th:only-of-type {\n",
       "        vertical-align: middle;\n",
       "    }\n",
       "\n",
       "    .dataframe tbody tr th {\n",
       "        vertical-align: top;\n",
       "    }\n",
       "\n",
       "    .dataframe thead th {\n",
       "        text-align: right;\n",
       "    }\n",
       "</style>\n",
       "<table border=\"1\" class=\"dataframe\">\n",
       "  <thead>\n",
       "    <tr style=\"text-align: right;\">\n",
       "      <th></th>\n",
       "      <th>track_id</th>\n",
       "      <th>name</th>\n",
       "      <th>artist</th>\n",
       "      <th>spotify_preview_url</th>\n",
       "      <th>spotify_id</th>\n",
       "      <th>tags</th>\n",
       "      <th>genre</th>\n",
       "      <th>year</th>\n",
       "      <th>duration_ms</th>\n",
       "      <th>danceability</th>\n",
       "      <th>...</th>\n",
       "      <th>loudness</th>\n",
       "      <th>mode</th>\n",
       "      <th>speechiness</th>\n",
       "      <th>acousticness</th>\n",
       "      <th>instrumentalness</th>\n",
       "      <th>liveness</th>\n",
       "      <th>valence</th>\n",
       "      <th>tempo</th>\n",
       "      <th>time_signature</th>\n",
       "      <th>waveform</th>\n",
       "    </tr>\n",
       "  </thead>\n",
       "  <tbody>\n",
       "    <tr>\n",
       "      <th>0</th>\n",
       "      <td>TRIOREW128F424EAF0</td>\n",
       "      <td>Mr. Brightside</td>\n",
       "      <td>The Killers</td>\n",
       "      <td>https://p.scdn.co/mp3-preview/4d26180e6961fd46...</td>\n",
       "      <td>09ZQ5TmUG8TSL56n0knqrj</td>\n",
       "      <td>rock, alternative, indie, alternative_rock, in...</td>\n",
       "      <td>NaN</td>\n",
       "      <td>2004</td>\n",
       "      <td>222200</td>\n",
       "      <td>0.355</td>\n",
       "      <td>...</td>\n",
       "      <td>-4.360</td>\n",
       "      <td>1</td>\n",
       "      <td>0.0746</td>\n",
       "      <td>0.001190</td>\n",
       "      <td>0.000000</td>\n",
       "      <td>0.0971</td>\n",
       "      <td>0.240</td>\n",
       "      <td>148.114</td>\n",
       "      <td>4</td>\n",
       "      <td>[-0.283236, -0.55442226, -0.5227047, -0.644138...</td>\n",
       "    </tr>\n",
       "    <tr>\n",
       "      <th>1</th>\n",
       "      <td>TRRIVDJ128F429B0E8</td>\n",
       "      <td>Wonderwall</td>\n",
       "      <td>Oasis</td>\n",
       "      <td>https://p.scdn.co/mp3-preview/d012e536916c927b...</td>\n",
       "      <td>06UfBBDISthj1ZJAtX4xjj</td>\n",
       "      <td>rock, alternative, indie, pop, alternative_roc...</td>\n",
       "      <td>NaN</td>\n",
       "      <td>2006</td>\n",
       "      <td>258613</td>\n",
       "      <td>0.409</td>\n",
       "      <td>...</td>\n",
       "      <td>-4.373</td>\n",
       "      <td>1</td>\n",
       "      <td>0.0336</td>\n",
       "      <td>0.000807</td>\n",
       "      <td>0.000000</td>\n",
       "      <td>0.2070</td>\n",
       "      <td>0.651</td>\n",
       "      <td>174.426</td>\n",
       "      <td>4</td>\n",
       "      <td>[0.31897366, 0.33190382, 0.20763808, 0.2647782...</td>\n",
       "    </tr>\n",
       "    <tr>\n",
       "      <th>2</th>\n",
       "      <td>TROUVHL128F426C441</td>\n",
       "      <td>Come as You Are</td>\n",
       "      <td>Nirvana</td>\n",
       "      <td>https://p.scdn.co/mp3-preview/a1c11bb1cb231031...</td>\n",
       "      <td>0keNu0t0tqsWtExGM3nT1D</td>\n",
       "      <td>rock, alternative, alternative_rock, 90s, grunge</td>\n",
       "      <td>RnB</td>\n",
       "      <td>1991</td>\n",
       "      <td>218920</td>\n",
       "      <td>0.508</td>\n",
       "      <td>...</td>\n",
       "      <td>-5.783</td>\n",
       "      <td>0</td>\n",
       "      <td>0.0400</td>\n",
       "      <td>0.000175</td>\n",
       "      <td>0.000459</td>\n",
       "      <td>0.0878</td>\n",
       "      <td>0.543</td>\n",
       "      <td>120.012</td>\n",
       "      <td>4</td>\n",
       "      <td>[0.013973154, 0.053070467, 0.16098025, 0.25506...</td>\n",
       "    </tr>\n",
       "    <tr>\n",
       "      <th>3</th>\n",
       "      <td>TRUEIND128F93038C4</td>\n",
       "      <td>Take Me Out</td>\n",
       "      <td>Franz Ferdinand</td>\n",
       "      <td>https://p.scdn.co/mp3-preview/399c401370438be4...</td>\n",
       "      <td>0ancVQ9wEcHVd0RrGICTE4</td>\n",
       "      <td>rock, alternative, indie, alternative_rock, in...</td>\n",
       "      <td>NaN</td>\n",
       "      <td>2004</td>\n",
       "      <td>237026</td>\n",
       "      <td>0.279</td>\n",
       "      <td>...</td>\n",
       "      <td>-8.851</td>\n",
       "      <td>1</td>\n",
       "      <td>0.0371</td>\n",
       "      <td>0.000389</td>\n",
       "      <td>0.000655</td>\n",
       "      <td>0.1330</td>\n",
       "      <td>0.490</td>\n",
       "      <td>104.560</td>\n",
       "      <td>4</td>\n",
       "      <td>[0.17191999, 0.25843543, 0.15508036, 0.1254905...</td>\n",
       "    </tr>\n",
       "    <tr>\n",
       "      <th>4</th>\n",
       "      <td>TRLNZBD128F935E4D8</td>\n",
       "      <td>Creep</td>\n",
       "      <td>Radiohead</td>\n",
       "      <td>https://p.scdn.co/mp3-preview/e7eb60e9466bc3a2...</td>\n",
       "      <td>01QoK9DA7VTeTSE3MNzp4I</td>\n",
       "      <td>rock, alternative, indie, alternative_rock, in...</td>\n",
       "      <td>RnB</td>\n",
       "      <td>2008</td>\n",
       "      <td>238640</td>\n",
       "      <td>0.515</td>\n",
       "      <td>...</td>\n",
       "      <td>-9.935</td>\n",
       "      <td>1</td>\n",
       "      <td>0.0369</td>\n",
       "      <td>0.010200</td>\n",
       "      <td>0.000141</td>\n",
       "      <td>0.1290</td>\n",
       "      <td>0.104</td>\n",
       "      <td>91.841</td>\n",
       "      <td>4</td>\n",
       "      <td>[0.017730419, 0.1649383, 0.12062906, 0.0725574...</td>\n",
       "    </tr>\n",
       "  </tbody>\n",
       "</table>\n",
       "<p>5 rows × 22 columns</p>\n",
       "</div>"
      ],
      "text/plain": [
       "             track_id             name           artist  \\\n",
       "0  TRIOREW128F424EAF0   Mr. Brightside      The Killers   \n",
       "1  TRRIVDJ128F429B0E8       Wonderwall            Oasis   \n",
       "2  TROUVHL128F426C441  Come as You Are          Nirvana   \n",
       "3  TRUEIND128F93038C4      Take Me Out  Franz Ferdinand   \n",
       "4  TRLNZBD128F935E4D8            Creep        Radiohead   \n",
       "\n",
       "                                 spotify_preview_url              spotify_id  \\\n",
       "0  https://p.scdn.co/mp3-preview/4d26180e6961fd46...  09ZQ5TmUG8TSL56n0knqrj   \n",
       "1  https://p.scdn.co/mp3-preview/d012e536916c927b...  06UfBBDISthj1ZJAtX4xjj   \n",
       "2  https://p.scdn.co/mp3-preview/a1c11bb1cb231031...  0keNu0t0tqsWtExGM3nT1D   \n",
       "3  https://p.scdn.co/mp3-preview/399c401370438be4...  0ancVQ9wEcHVd0RrGICTE4   \n",
       "4  https://p.scdn.co/mp3-preview/e7eb60e9466bc3a2...  01QoK9DA7VTeTSE3MNzp4I   \n",
       "\n",
       "                                                tags genre  year  duration_ms  \\\n",
       "0  rock, alternative, indie, alternative_rock, in...   NaN  2004       222200   \n",
       "1  rock, alternative, indie, pop, alternative_roc...   NaN  2006       258613   \n",
       "2   rock, alternative, alternative_rock, 90s, grunge   RnB  1991       218920   \n",
       "3  rock, alternative, indie, alternative_rock, in...   NaN  2004       237026   \n",
       "4  rock, alternative, indie, alternative_rock, in...   RnB  2008       238640   \n",
       "\n",
       "   danceability  ...  loudness  mode  speechiness  acousticness  \\\n",
       "0         0.355  ...    -4.360     1       0.0746      0.001190   \n",
       "1         0.409  ...    -4.373     1       0.0336      0.000807   \n",
       "2         0.508  ...    -5.783     0       0.0400      0.000175   \n",
       "3         0.279  ...    -8.851     1       0.0371      0.000389   \n",
       "4         0.515  ...    -9.935     1       0.0369      0.010200   \n",
       "\n",
       "   instrumentalness  liveness  valence    tempo  time_signature  \\\n",
       "0          0.000000    0.0971    0.240  148.114               4   \n",
       "1          0.000000    0.2070    0.651  174.426               4   \n",
       "2          0.000459    0.0878    0.543  120.012               4   \n",
       "3          0.000655    0.1330    0.490  104.560               4   \n",
       "4          0.000141    0.1290    0.104   91.841               4   \n",
       "\n",
       "                                            waveform  \n",
       "0  [-0.283236, -0.55442226, -0.5227047, -0.644138...  \n",
       "1  [0.31897366, 0.33190382, 0.20763808, 0.2647782...  \n",
       "2  [0.013973154, 0.053070467, 0.16098025, 0.25506...  \n",
       "3  [0.17191999, 0.25843543, 0.15508036, 0.1254905...  \n",
       "4  [0.017730419, 0.1649383, 0.12062906, 0.0725574...  \n",
       "\n",
       "[5 rows x 22 columns]"
      ]
     },
     "execution_count": 15,
     "metadata": {},
     "output_type": "execute_result"
    }
   ],
   "source": [
    "df.head()\n",
    "# df.to_csv('/kaggle/working/my_saved_data.csv', index=False)\n"
   ]
  },
  {
   "cell_type": "code",
   "execution_count": 16,
   "metadata": {
    "execution": {
     "iopub.execute_input": "2025-04-30T20:22:04.996586Z",
     "iopub.status.busy": "2025-04-30T20:22:04.996241Z",
     "iopub.status.idle": "2025-04-30T20:22:05.009385Z",
     "shell.execute_reply": "2025-04-30T20:22:05.008023Z",
     "shell.execute_reply.started": "2025-04-30T20:22:04.996560Z"
    },
    "trusted": true
   },
   "outputs": [],
   "source": [
    "df.to_pickle(\"/kaggle/working/download/audio30k-34k.pkl\")"
   ]
  },
  {
   "cell_type": "code",
   "execution_count": 17,
   "metadata": {
    "execution": {
     "iopub.execute_input": "2025-04-30T20:22:05.011239Z",
     "iopub.status.busy": "2025-04-30T20:22:05.010630Z",
     "iopub.status.idle": "2025-04-30T20:22:05.040757Z",
     "shell.execute_reply": "2025-04-30T20:22:05.039265Z",
     "shell.execute_reply.started": "2025-04-30T20:22:05.011168Z"
    },
    "trusted": true
   },
   "outputs": [],
   "source": [
    "# df1 = pd.read_pickle(\"/kaggle/working/download/audio.pkl\")"
   ]
  },
  {
   "cell_type": "code",
   "execution_count": 18,
   "metadata": {
    "execution": {
     "iopub.execute_input": "2025-04-30T20:22:05.043419Z",
     "iopub.status.busy": "2025-04-30T20:22:05.043079Z",
     "iopub.status.idle": "2025-04-30T20:22:05.070927Z",
     "shell.execute_reply": "2025-04-30T20:22:05.069953Z",
     "shell.execute_reply.started": "2025-04-30T20:22:05.043393Z"
    },
    "trusted": true
   },
   "outputs": [],
   "source": [
    "# df1.head()"
   ]
  },
  {
   "cell_type": "code",
   "execution_count": 19,
   "metadata": {
    "execution": {
     "iopub.execute_input": "2025-04-30T20:24:13.272776Z",
     "iopub.status.busy": "2025-04-30T20:24:13.272365Z",
     "iopub.status.idle": "2025-04-30T20:24:13.280806Z",
     "shell.execute_reply": "2025-04-30T20:24:13.279670Z",
     "shell.execute_reply.started": "2025-04-30T20:24:13.272750Z"
    },
    "trusted": true
   },
   "outputs": [
    {
     "data": {
      "text/plain": [
       "Index(['track_id', 'name', 'artist', 'spotify_preview_url', 'spotify_id',\n",
       "       'tags', 'genre', 'year', 'duration_ms', 'danceability', 'energy', 'key',\n",
       "       'loudness', 'mode', 'speechiness', 'acousticness', 'instrumentalness',\n",
       "       'liveness', 'valence', 'tempo', 'time_signature', 'waveform'],\n",
       "      dtype='object')"
      ]
     },
     "execution_count": 19,
     "metadata": {},
     "output_type": "execute_result"
    }
   ],
   "source": [
    "df.columns"
   ]
  },
  {
   "cell_type": "code",
   "execution_count": null,
   "metadata": {
    "trusted": true
   },
   "outputs": [],
   "source": []
  }
 ],
 "metadata": {
  "kaggle": {
   "accelerator": "none",
   "dataSources": [
    {
     "datasetId": 3166258,
     "sourceId": 5485048,
     "sourceType": "datasetVersion"
    },
    {
     "datasetId": 7252093,
     "sourceId": 11566628,
     "sourceType": "datasetVersion"
    },
    {
     "datasetId": 7261236,
     "sourceId": 11580763,
     "sourceType": "datasetVersion"
    }
   ],
   "dockerImageVersionId": 31012,
   "isGpuEnabled": false,
   "isInternetEnabled": true,
   "language": "python",
   "sourceType": "notebook"
  },
  "kernelspec": {
   "display_name": "Python 3",
   "language": "python",
   "name": "python3"
  },
  "language_info": {
   "codemirror_mode": {
    "name": "ipython",
    "version": 3
   },
   "file_extension": ".py",
   "mimetype": "text/x-python",
   "name": "python",
   "nbconvert_exporter": "python",
   "pygments_lexer": "ipython3",
   "version": "3.11.11"
  }
 },
 "nbformat": 4,
 "nbformat_minor": 4
}
